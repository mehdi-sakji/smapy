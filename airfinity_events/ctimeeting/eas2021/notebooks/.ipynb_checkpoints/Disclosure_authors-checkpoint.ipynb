{
 "cells": [
  {
   "cell_type": "code",
   "execution_count": 1,
   "metadata": {},
   "outputs": [],
   "source": [
    "import re\n",
    "import humanize"
   ]
  },
  {
   "cell_type": "code",
   "execution_count": 2,
   "metadata": {},
   "outputs": [],
   "source": [
    "disclosure_text = \"Y. Artstein: Full/Part-time employment: Karyopharm Therapeutics. C. Walker: Shareholder/Stockholder/Stock options, Full/Part-time employment: Karyopharm Therapeutics. F. Yang: Shareholder/Stockholder/Stock options, Full/Part-time employment: Karyopharm Therapeutics. D. Van Domelen: Shareholder/Stockholder/Stock options, Full/Part-time employment: Karyopharm Therapeutics. D. Borochov: Shareholder/Stockholder/Stock options, Full/Part-time employment: Karyopharm Therapeutics. I. Mercier: Shareholder/Stockholder/Stock options, Full/Part-time employment: Karyopharm Therapeutics. J. Shah: Leadership role, Shareholder/Stockholder/Stock options, Full/Part-time employment: Karyopharm Therapeutics. S. Shacham: Leadership role, Shareholder/Stockholder/Stock options, Full/Part-time employment, Officer/Board of Directors: Karyopharm Therapeutics. Y. Landesman: Leadership role, Shareholder/Stockholder/Stock options, Full/Part-time employment, Officer/Board of Directors: Karyopharm Therapeutics. S. Tang: Leadership role, Shareholder/Stockholder/Stock options, Full/Part-time employment, Officer/Board of Directors: Karyopharm Therapeutics. E. Shacham: Leadership role, Shareholder/Stockholder/Stock options, Full/Part-time employment: Karyopharm Therapeutics.\""
   ]
  },
  {
   "cell_type": "code",
   "execution_count": 3,
   "metadata": {},
   "outputs": [
    {
     "name": "stdout",
     "output_type": "stream",
     "text": [
      "Y. Artstein: Full/Part-time employment: Karyopharm Therapeutics. C. Walker: Shareholder/Stockholder/Stock options, Full/Part-time employment: Karyopharm Therapeutics. F. Yang: Shareholder/Stockholder/Stock options, Full/Part-time employment: Karyopharm Therapeutics. D. Van Domelen: Shareholder/Stockholder/Stock options, Full/Part-time employment: Karyopharm Therapeutics. D. Borochov: Shareholder/Stockholder/Stock options, Full/Part-time employment: Karyopharm Therapeutics. I. Mercier: Shareholder/Stockholder/Stock options, Full/Part-time employment: Karyopharm Therapeutics. J. Shah: Leadership role, Shareholder/Stockholder/Stock options, Full/Part-time employment: Karyopharm Therapeutics. S. Shacham: Leadership role, Shareholder/Stockholder/Stock options, Full/Part-time employment, Officer/Board of Directors: Karyopharm Therapeutics. Y. Landesman: Leadership role, Shareholder/Stockholder/Stock options, Full/Part-time employment, Officer/Board of Directors: Karyopharm Therapeutics. S. Tang: Leadership role, Shareholder/Stockholder/Stock options, Full/Part-time employment, Officer/Board of Directors: Karyopharm Therapeutics. E. Shacham: Leadership role, Shareholder/Stockholder/Stock options, Full/Part-time employment: Karyopharm Therapeutics.\n"
     ]
    }
   ],
   "source": [
    "print(disclosure_text)"
   ]
  },
  {
   "cell_type": "code",
   "execution_count": 5,
   "metadata": {},
   "outputs": [],
   "source": [
    "pattern = re.compile('(?P<fullname>[A-Z]\\.\\s[A-Za-z\\s]+):(?P<title>(.*?)\\.)')\n",
    "person_name = pattern.search(disclosure_text).groups(\"fullname\")"
   ]
  },
  {
   "cell_type": "code",
   "execution_count": 6,
   "metadata": {},
   "outputs": [
    {
     "data": {
      "text/plain": [
       "'Y. Artstein'"
      ]
     },
     "execution_count": 6,
     "metadata": {},
     "output_type": "execute_result"
    }
   ],
   "source": [
    "person_name"
   ]
  },
  {
   "cell_type": "code",
   "execution_count": null,
   "metadata": {},
   "outputs": [],
   "source": []
  }
 ],
 "metadata": {
  "kernelspec": {
   "display_name": "Python 3",
   "language": "python",
   "name": "python3"
  },
  "language_info": {
   "codemirror_mode": {
    "name": "ipython",
    "version": 3
   },
   "file_extension": ".py",
   "mimetype": "text/x-python",
   "name": "python",
   "nbconvert_exporter": "python",
   "pygments_lexer": "ipython3",
   "version": "3.7.6"
  }
 },
 "nbformat": 4,
 "nbformat_minor": 4
}
