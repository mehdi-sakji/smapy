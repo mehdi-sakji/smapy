{
 "cells": [
  {
   "cell_type": "code",
   "execution_count": 1,
   "metadata": {},
   "outputs": [],
   "source": [
    "import re\n",
    "import humanize"
   ]
  },
  {
   "cell_type": "code",
   "execution_count": 13,
   "metadata": {},
   "outputs": [],
   "source": [
    "disclosure_text = \"Y. Artstein: Full/Part-time employment: Karyopharm Therapeutics. C. Walker: Shareholder/Stockholder/Stock options, Full/Part-time employment: Karyopharm Therapeutics. F. Yang: Shareholder/Stockholder/Stock options, Full/Part-time employment: Karyopharm Therapeutics. D. Van Domelen: Shareholder/Stockholder/Stock options, Full/Part-time employment: Karyopharm Therapeutics. D. Borochov: Shareholder/Stockholder/Stock options, Full/Part-time employment: Karyopharm Therapeutics. I. Mercier: Shareholder/Stockholder/Stock options, Full/Part-time employment: Karyopharm Therapeutics. J. Shah: Leadership role, Shareholder/Stockholder/Stock options, Full/Part-time employment: Karyopharm Therapeutics. S. Shacham: Leadership role, Shareholder/Stockholder/Stock options, Full/Part-time employment, Officer/Board of Directors: Karyopharm Therapeutics. Y. Landesman: Leadership role, Shareholder/Stockholder/Stock options, Full/Part-time employment, Officer/Board of Directors: Karyopharm Therapeutics. S. Tang: Leadership role, Shareholder/Stockholder/Stock options, Full/Part-time employment, Officer/Board of Directors: Karyopharm Therapeutics. E. Shacham: Leadership role, Shareholder/Stockholder/Stock options, Full/Part-time employment: Karyopharm Therapeutics.\""
   ]
  },
  {
   "cell_type": "code",
   "execution_count": 3,
   "metadata": {},
   "outputs": [
    {
     "name": "stdout",
     "output_type": "stream",
     "text": [
      "Y. Artstein: Full/Part-time employment: Karyopharm Therapeutics. C. Walker: Shareholder/Stockholder/Stock options, Full/Part-time employment: Karyopharm Therapeutics. F. Yang: Shareholder/Stockholder/Stock options, Full/Part-time employment: Karyopharm Therapeutics. D. Van Domelen: Shareholder/Stockholder/Stock options, Full/Part-time employment: Karyopharm Therapeutics. D. Borochov: Shareholder/Stockholder/Stock options, Full/Part-time employment: Karyopharm Therapeutics. I. Mercier: Shareholder/Stockholder/Stock options, Full/Part-time employment: Karyopharm Therapeutics. J. Shah: Leadership role, Shareholder/Stockholder/Stock options, Full/Part-time employment: Karyopharm Therapeutics. S. Shacham: Leadership role, Shareholder/Stockholder/Stock options, Full/Part-time employment, Officer/Board of Directors: Karyopharm Therapeutics. Y. Landesman: Leadership role, Shareholder/Stockholder/Stock options, Full/Part-time employment, Officer/Board of Directors: Karyopharm Therapeutics. S. Tang: Leadership role, Shareholder/Stockholder/Stock options, Full/Part-time employment, Officer/Board of Directors: Karyopharm Therapeutics. E. Shacham: Leadership role, Shareholder/Stockholder/Stock options, Full/Part-time employment: Karyopharm Therapeutics.\n"
     ]
    }
   ],
   "source": [
    "print(disclosure_text)"
   ]
  },
  {
   "cell_type": "code",
   "execution_count": 10,
   "metadata": {},
   "outputs": [],
   "source": [
    "disclosure_text = \"All authors have declared no conflicts of interest.\""
   ]
  },
  {
   "cell_type": "code",
   "execution_count": 11,
   "metadata": {},
   "outputs": [
    {
     "ename": "AttributeError",
     "evalue": "'NoneType' object has no attribute 'groups'",
     "output_type": "error",
     "traceback": [
      "\u001b[1;31m---------------------------------------------------------------------------\u001b[0m",
      "\u001b[1;31mAttributeError\u001b[0m                            Traceback (most recent call last)",
      "\u001b[1;32m<ipython-input-11-8cb6a5ebe351>\u001b[0m in \u001b[0;36m<module>\u001b[1;34m\u001b[0m\n\u001b[0;32m      1\u001b[0m \u001b[0mpattern\u001b[0m \u001b[1;33m=\u001b[0m \u001b[0mre\u001b[0m\u001b[1;33m.\u001b[0m\u001b[0mcompile\u001b[0m\u001b[1;33m(\u001b[0m\u001b[1;34m'(?P<fullname>[A-Z]\\.\\s[A-Za-z\\s]+):(?P<title>(.*?)\\.)'\u001b[0m\u001b[1;33m)\u001b[0m\u001b[1;33m\u001b[0m\u001b[1;33m\u001b[0m\u001b[0m\n\u001b[1;32m----> 2\u001b[1;33m \u001b[0mperson_name\u001b[0m \u001b[1;33m=\u001b[0m \u001b[0mpattern\u001b[0m\u001b[1;33m.\u001b[0m\u001b[0msearch\u001b[0m\u001b[1;33m(\u001b[0m\u001b[0mdisclosure_text\u001b[0m\u001b[1;33m)\u001b[0m\u001b[1;33m.\u001b[0m\u001b[0mgroups\u001b[0m\u001b[1;33m(\u001b[0m\u001b[1;34m\"fullname\"\u001b[0m\u001b[1;33m)\u001b[0m\u001b[1;33m\u001b[0m\u001b[1;33m\u001b[0m\u001b[0m\n\u001b[0m",
      "\u001b[1;31mAttributeError\u001b[0m: 'NoneType' object has no attribute 'groups'"
     ]
    }
   ],
   "source": [
    "pattern = re.compile('(?P<fullname>[A-Z]\\.\\s[A-Za-z\\s]+):(?P<title>(.*?)\\.)')\n",
    "person_name = pattern.search(disclosure_text).groups(\"fullname\")"
   ]
  },
  {
   "cell_type": "code",
   "execution_count": 14,
   "metadata": {},
   "outputs": [
    {
     "data": {
      "text/plain": [
       "('Y. Artstein',\n",
       " ' Full/Part-time employment: Karyopharm Therapeutics.',\n",
       " ' Full/Part-time employment: Karyopharm Therapeutics')"
      ]
     },
     "execution_count": 14,
     "metadata": {},
     "output_type": "execute_result"
    }
   ],
   "source": [
    "person_name"
   ]
  },
  {
   "cell_type": "code",
   "execution_count": 15,
   "metadata": {},
   "outputs": [
    {
     "data": {
      "text/plain": [
       "[('Y. Artstein',\n",
       "  ' Full/Part-time employment: Karyopharm Therapeutics.',\n",
       "  ' Full/Part-time employment: Karyopharm Therapeutics'),\n",
       " ('C. Walker',\n",
       "  ' Shareholder/Stockholder/Stock options, Full/Part-time employment: Karyopharm Therapeutics.',\n",
       "  ' Shareholder/Stockholder/Stock options, Full/Part-time employment: Karyopharm Therapeutics'),\n",
       " ('F. Yang',\n",
       "  ' Shareholder/Stockholder/Stock options, Full/Part-time employment: Karyopharm Therapeutics.',\n",
       "  ' Shareholder/Stockholder/Stock options, Full/Part-time employment: Karyopharm Therapeutics'),\n",
       " ('D. Van Domelen',\n",
       "  ' Shareholder/Stockholder/Stock options, Full/Part-time employment: Karyopharm Therapeutics.',\n",
       "  ' Shareholder/Stockholder/Stock options, Full/Part-time employment: Karyopharm Therapeutics'),\n",
       " ('D. Borochov',\n",
       "  ' Shareholder/Stockholder/Stock options, Full/Part-time employment: Karyopharm Therapeutics.',\n",
       "  ' Shareholder/Stockholder/Stock options, Full/Part-time employment: Karyopharm Therapeutics'),\n",
       " ('I. Mercier',\n",
       "  ' Shareholder/Stockholder/Stock options, Full/Part-time employment: Karyopharm Therapeutics.',\n",
       "  ' Shareholder/Stockholder/Stock options, Full/Part-time employment: Karyopharm Therapeutics'),\n",
       " ('J. Shah',\n",
       "  ' Leadership role, Shareholder/Stockholder/Stock options, Full/Part-time employment: Karyopharm Therapeutics.',\n",
       "  ' Leadership role, Shareholder/Stockholder/Stock options, Full/Part-time employment: Karyopharm Therapeutics'),\n",
       " ('S. Shacham',\n",
       "  ' Leadership role, Shareholder/Stockholder/Stock options, Full/Part-time employment, Officer/Board of Directors: Karyopharm Therapeutics.',\n",
       "  ' Leadership role, Shareholder/Stockholder/Stock options, Full/Part-time employment, Officer/Board of Directors: Karyopharm Therapeutics'),\n",
       " ('Y. Landesman',\n",
       "  ' Leadership role, Shareholder/Stockholder/Stock options, Full/Part-time employment, Officer/Board of Directors: Karyopharm Therapeutics.',\n",
       "  ' Leadership role, Shareholder/Stockholder/Stock options, Full/Part-time employment, Officer/Board of Directors: Karyopharm Therapeutics'),\n",
       " ('S. Tang',\n",
       "  ' Leadership role, Shareholder/Stockholder/Stock options, Full/Part-time employment, Officer/Board of Directors: Karyopharm Therapeutics.',\n",
       "  ' Leadership role, Shareholder/Stockholder/Stock options, Full/Part-time employment, Officer/Board of Directors: Karyopharm Therapeutics'),\n",
       " ('E. Shacham',\n",
       "  ' Leadership role, Shareholder/Stockholder/Stock options, Full/Part-time employment: Karyopharm Therapeutics.',\n",
       "  ' Leadership role, Shareholder/Stockholder/Stock options, Full/Part-time employment: Karyopharm Therapeutics')]"
      ]
     },
     "execution_count": 15,
     "metadata": {},
     "output_type": "execute_result"
    }
   ],
   "source": [
    "re.findall(pattern, disclosure_text)"
   ]
  },
  {
   "cell_type": "code",
   "execution_count": null,
   "metadata": {},
   "outputs": [],
   "source": []
  }
 ],
 "metadata": {
  "kernelspec": {
   "display_name": "Python 3",
   "language": "python",
   "name": "python3"
  },
  "language_info": {
   "codemirror_mode": {
    "name": "ipython",
    "version": 3
   },
   "file_extension": ".py",
   "mimetype": "text/x-python",
   "name": "python",
   "nbconvert_exporter": "python",
   "pygments_lexer": "ipython3",
   "version": "3.7.6"
  }
 },
 "nbformat": 4,
 "nbformat_minor": 4
}
