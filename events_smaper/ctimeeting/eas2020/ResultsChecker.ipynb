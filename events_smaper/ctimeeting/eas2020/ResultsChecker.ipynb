{
 "cells": [
  {
   "cell_type": "code",
   "execution_count": 5,
   "metadata": {},
   "outputs": [],
   "source": [
    "import pandas as pd\n",
    "import os\n",
    "import jsonlines"
   ]
  },
  {
   "cell_type": "code",
   "execution_count": 6,
   "metadata": {},
   "outputs": [],
   "source": [
    "df_session = pd.read_json(\"./output-structured/ctimeeting2020/Session.jsonl\", lines=True)\n",
    "df_presentation = pd.read_json(\"./output-structured/ctimeeting2020/Presentation.jsonl\", lines=True)\n",
    "df_session_person = pd.read_json(\"./output-structured/ctimeeting2020/SessionPerson.jsonl\", lines=True)\n",
    "df_presentation_person = pd.read_json(\"./output-structured/ctimeeting2020/PresentationPerson.jsonl\", lines=True)\n",
    "df_person = pd.read_json(\"./output-structured/ctimeeting2020/Person.jsonl\", lines=True)"
   ]
  },
  {
   "cell_type": "markdown",
   "metadata": {},
   "source": [
    "Check lengths"
   ]
  },
  {
   "cell_type": "code",
   "execution_count": 7,
   "metadata": {},
   "outputs": [
    {
     "name": "stdout",
     "output_type": "stream",
     "text": [
      "51 233 44 306 188\n"
     ]
    }
   ],
   "source": [
    "print(\"{} {} {} {} {}\".format(\n",
    "    len(df_session), len(df_presentation), len(df_session_person), len(df_presentation_person), len(df_person)))"
   ]
  },
  {
   "cell_type": "markdown",
   "metadata": {},
   "source": [
    "test all person_id exist within person df"
   ]
  },
  {
   "cell_type": "code",
   "execution_count": 8,
   "metadata": {},
   "outputs": [],
   "source": [
    "all_person_ids = list(df_session_person.person_id) + list(df_presentation_person.person_id)"
   ]
  },
  {
   "cell_type": "code",
   "execution_count": 9,
   "metadata": {},
   "outputs": [
    {
     "data": {
      "text/plain": [
       "[]"
      ]
     },
     "execution_count": 9,
     "metadata": {},
     "output_type": "execute_result"
    }
   ],
   "source": [
    "[item for item in all_person_ids if item not in list(df_person.id)]"
   ]
  },
  {
   "cell_type": "markdown",
   "metadata": {},
   "source": [
    "test all session_id exist within session df"
   ]
  },
  {
   "cell_type": "code",
   "execution_count": 10,
   "metadata": {},
   "outputs": [],
   "source": [
    "all_session_ids = list(df_session_person.session_id) + list(df_presentation.session_id)"
   ]
  },
  {
   "cell_type": "code",
   "execution_count": 11,
   "metadata": {},
   "outputs": [
    {
     "data": {
      "text/plain": [
       "[]"
      ]
     },
     "execution_count": 11,
     "metadata": {},
     "output_type": "execute_result"
    }
   ],
   "source": [
    "[item for item in all_session_ids if item not in list(df_session.id)]"
   ]
  },
  {
   "cell_type": "markdown",
   "metadata": {},
   "source": [
    "visualize presentations having no persons"
   ]
  },
  {
   "cell_type": "code",
   "execution_count": 12,
   "metadata": {},
   "outputs": [],
   "source": [
    "all_ids = list(df_presentation.id)"
   ]
  },
  {
   "cell_type": "code",
   "execution_count": 13,
   "metadata": {},
   "outputs": [
    {
     "data": {
      "text/html": [
       "<div>\n",
       "<style scoped>\n",
       "    .dataframe tbody tr th:only-of-type {\n",
       "        vertical-align: middle;\n",
       "    }\n",
       "\n",
       "    .dataframe tbody tr th {\n",
       "        vertical-align: top;\n",
       "    }\n",
       "\n",
       "    .dataframe thead th {\n",
       "        text-align: right;\n",
       "    }\n",
       "</style>\n",
       "<table border=\"1\" class=\"dataframe\">\n",
       "  <thead>\n",
       "    <tr style=\"text-align: right;\">\n",
       "      <th></th>\n",
       "      <th>id</th>\n",
       "      <th>title</th>\n",
       "      <th>start_time</th>\n",
       "      <th>end_time</th>\n",
       "      <th>session_id</th>\n",
       "      <th>order</th>\n",
       "      <th>description</th>\n",
       "    </tr>\n",
       "  </thead>\n",
       "  <tbody>\n",
       "    <tr>\n",
       "      <th>94</th>\n",
       "      <td>73223199-f702-477e-9b5d-6d2a796d6851</td>\n",
       "      <td>Introduction</td>\n",
       "      <td>2020-10-05 18:30:00</td>\n",
       "      <td>2020-10-05 18:35:00</td>\n",
       "      <td>bcbb46e9-43be-4117-bf0a-e1f0fbac0d9a</td>\n",
       "      <td>95</td>\n",
       "      <td>NaN</td>\n",
       "    </tr>\n",
       "  </tbody>\n",
       "</table>\n",
       "</div>"
      ],
      "text/plain": [
       "                                      id         title          start_time  \\\n",
       "94  73223199-f702-477e-9b5d-6d2a796d6851  Introduction 2020-10-05 18:30:00   \n",
       "\n",
       "              end_time                            session_id  order  \\\n",
       "94 2020-10-05 18:35:00  bcbb46e9-43be-4117-bf0a-e1f0fbac0d9a     95   \n",
       "\n",
       "   description  \n",
       "94         NaN  "
      ]
     },
     "execution_count": 13,
     "metadata": {},
     "output_type": "execute_result"
    }
   ],
   "source": [
    "df_presentation[\n",
    "    df_presentation.id.isin([item for item in all_ids if item not in list(df_presentation_person.presentation_id)])\n",
    "]"
   ]
  },
  {
   "cell_type": "markdown",
   "metadata": {},
   "source": [
    "visualize sessions having no persons"
   ]
  },
  {
   "cell_type": "code",
   "execution_count": 14,
   "metadata": {},
   "outputs": [],
   "source": [
    "all_ids = list(df_session.id)"
   ]
  },
  {
   "cell_type": "code",
   "execution_count": 15,
   "metadata": {},
   "outputs": [
    {
     "data": {
      "text/html": [
       "<div>\n",
       "<style scoped>\n",
       "    .dataframe tbody tr th:only-of-type {\n",
       "        vertical-align: middle;\n",
       "    }\n",
       "\n",
       "    .dataframe tbody tr th {\n",
       "        vertical-align: top;\n",
       "    }\n",
       "\n",
       "    .dataframe thead th {\n",
       "        text-align: right;\n",
       "    }\n",
       "</style>\n",
       "<table border=\"1\" class=\"dataframe\">\n",
       "  <thead>\n",
       "    <tr style=\"text-align: right;\">\n",
       "      <th></th>\n",
       "      <th>id</th>\n",
       "      <th>event_id</th>\n",
       "      <th>title</th>\n",
       "      <th>session_type</th>\n",
       "      <th>location</th>\n",
       "      <th>start_time</th>\n",
       "      <th>end_time</th>\n",
       "      <th>order</th>\n",
       "      <th>description</th>\n",
       "    </tr>\n",
       "  </thead>\n",
       "  <tbody>\n",
       "    <tr>\n",
       "      <th>0</th>\n",
       "      <td>ef44f0cf-7268-43bb-9b0a-9951f562b0a1</td>\n",
       "      <td>cc183d75-38e7-45cd-875c-9d56007cdaac</td>\n",
       "      <td>Introduction to the scientific programme</td>\n",
       "      <td>Introduction</td>\n",
       "      <td>Hall 1</td>\n",
       "      <td>2020-10-04 12:55:00</td>\n",
       "      <td>2020-10-04 13:00:00</td>\n",
       "      <td>1</td>\n",
       "      <td>NaN</td>\n",
       "    </tr>\n",
       "    <tr>\n",
       "      <th>2</th>\n",
       "      <td>fd708ed1-4a13-436f-8c6a-dbb231a031bf</td>\n",
       "      <td>cc183d75-38e7-45cd-875c-9d56007cdaac</td>\n",
       "      <td>NLA/EAS joint session - Dyslipidemia Treatment...</td>\n",
       "      <td>Joint symposium</td>\n",
       "      <td>Hall 1</td>\n",
       "      <td>2020-10-04 14:30:00</td>\n",
       "      <td>2020-10-04 15:30:00</td>\n",
       "      <td>3</td>\n",
       "      <td>NaN</td>\n",
       "    </tr>\n",
       "    <tr>\n",
       "      <th>5</th>\n",
       "      <td>eb805b2e-9af1-4f23-8bde-2b3677c937ac</td>\n",
       "      <td>cc183d75-38e7-45cd-875c-9d56007cdaac</td>\n",
       "      <td>Opening Ceremony including Anitschkow Lecture</td>\n",
       "      <td>Plenary</td>\n",
       "      <td>Hall 1</td>\n",
       "      <td>2020-10-04 19:00:00</td>\n",
       "      <td>2020-10-04 20:30:00</td>\n",
       "      <td>6</td>\n",
       "      <td>NaN</td>\n",
       "    </tr>\n",
       "    <tr>\n",
       "      <th>6</th>\n",
       "      <td>771a15e6-5c4e-498c-9e77-4df10171b884</td>\n",
       "      <td>cc183d75-38e7-45cd-875c-9d56007cdaac</td>\n",
       "      <td>Introduction to the scientific programme</td>\n",
       "      <td>Introduction</td>\n",
       "      <td>Hall 1</td>\n",
       "      <td>2020-10-05 08:00:00</td>\n",
       "      <td>2020-10-05 08:05:00</td>\n",
       "      <td>7</td>\n",
       "      <td>NaN</td>\n",
       "    </tr>\n",
       "    <tr>\n",
       "      <th>11</th>\n",
       "      <td>0d65ee87-8723-4da7-8efb-073df41bd82f</td>\n",
       "      <td>cc183d75-38e7-45cd-875c-9d56007cdaac</td>\n",
       "      <td>Who are the highest risk patients and how do w...</td>\n",
       "      <td>Track 4 - Prevention and Treatment of CVD</td>\n",
       "      <td>Hall 4</td>\n",
       "      <td>2020-10-05 10:00:00</td>\n",
       "      <td>2020-10-05 11:13:00</td>\n",
       "      <td>12</td>\n",
       "      <td>NaN</td>\n",
       "    </tr>\n",
       "    <tr>\n",
       "      <th>17</th>\n",
       "      <td>520b30de-6cc5-4d39-b2db-df22b8276780</td>\n",
       "      <td>cc183d75-38e7-45cd-875c-9d56007cdaac</td>\n",
       "      <td>Break between Live Q&amp;A sessions</td>\n",
       "      <td>Break</td>\n",
       "      <td>Hall 1</td>\n",
       "      <td>2020-10-05 15:30:00</td>\n",
       "      <td>2020-10-05 16:00:00</td>\n",
       "      <td>18</td>\n",
       "      <td>NaN</td>\n",
       "    </tr>\n",
       "    <tr>\n",
       "      <th>19</th>\n",
       "      <td>c4c99360-39a5-4e8d-8226-392d672cf38a</td>\n",
       "      <td>cc183d75-38e7-45cd-875c-9d56007cdaac</td>\n",
       "      <td>Break between Live Q&amp;A sessions</td>\n",
       "      <td>Break</td>\n",
       "      <td>Hall 1</td>\n",
       "      <td>2020-10-05 17:00:00</td>\n",
       "      <td>2020-10-05 17:30:00</td>\n",
       "      <td>20</td>\n",
       "      <td>NaN</td>\n",
       "    </tr>\n",
       "    <tr>\n",
       "      <th>21</th>\n",
       "      <td>bcbb46e9-43be-4117-bf0a-e1f0fbac0d9a</td>\n",
       "      <td>cc183d75-38e7-45cd-875c-9d56007cdaac</td>\n",
       "      <td>Not included in the main CME-CPD of the event</td>\n",
       "      <td>Industry Sponsored Session</td>\n",
       "      <td>Industry session hall</td>\n",
       "      <td>2020-10-05 18:30:00</td>\n",
       "      <td>2020-10-05 20:00:00</td>\n",
       "      <td>22</td>\n",
       "      <td>NaN</td>\n",
       "    </tr>\n",
       "    <tr>\n",
       "      <th>22</th>\n",
       "      <td>838fe581-cf12-4a63-969e-8cc270f7abb9</td>\n",
       "      <td>cc183d75-38e7-45cd-875c-9d56007cdaac</td>\n",
       "      <td>Introduction to the scientific programme</td>\n",
       "      <td>Introduction</td>\n",
       "      <td>Hall 1</td>\n",
       "      <td>2020-10-06 08:00:00</td>\n",
       "      <td>2020-10-06 08:05:00</td>\n",
       "      <td>23</td>\n",
       "      <td>NaN</td>\n",
       "    </tr>\n",
       "    <tr>\n",
       "      <th>26</th>\n",
       "      <td>94bcd10d-8fdc-4575-be6c-e6e9ffe6e5cc</td>\n",
       "      <td>cc183d75-38e7-45cd-875c-9d56007cdaac</td>\n",
       "      <td>Lipid lowering therapies from childhood to old...</td>\n",
       "      <td>Track 4 - Prevention and Treatment of CVD</td>\n",
       "      <td>Hall 4</td>\n",
       "      <td>2020-10-06 10:00:00</td>\n",
       "      <td>2020-10-06 11:13:00</td>\n",
       "      <td>27</td>\n",
       "      <td>NaN</td>\n",
       "    </tr>\n",
       "    <tr>\n",
       "      <th>35</th>\n",
       "      <td>712d5a57-99a2-4140-9d3b-36fc9134f816</td>\n",
       "      <td>cc183d75-38e7-45cd-875c-9d56007cdaac</td>\n",
       "      <td>Break between Live Q&amp;A sessions</td>\n",
       "      <td>Break</td>\n",
       "      <td>Hall 1</td>\n",
       "      <td>2020-10-06 15:30:00</td>\n",
       "      <td>2020-10-06 16:00:00</td>\n",
       "      <td>36</td>\n",
       "      <td>NaN</td>\n",
       "    </tr>\n",
       "    <tr>\n",
       "      <th>37</th>\n",
       "      <td>daa9db7b-7cf4-47a5-99bb-c4ee2c87b111</td>\n",
       "      <td>cc183d75-38e7-45cd-875c-9d56007cdaac</td>\n",
       "      <td>Break between Live Q&amp;A sessions</td>\n",
       "      <td>Break</td>\n",
       "      <td>Hall 1</td>\n",
       "      <td>2020-10-06 17:00:00</td>\n",
       "      <td>2020-10-06 17:30:00</td>\n",
       "      <td>38</td>\n",
       "      <td>NaN</td>\n",
       "    </tr>\n",
       "    <tr>\n",
       "      <th>39</th>\n",
       "      <td>9da4f75d-5617-4306-b0ae-72a114c29dec</td>\n",
       "      <td>cc183d75-38e7-45cd-875c-9d56007cdaac</td>\n",
       "      <td>Introduction to the scientific programme</td>\n",
       "      <td>Introduction</td>\n",
       "      <td>Hall 1</td>\n",
       "      <td>2020-10-07 08:00:00</td>\n",
       "      <td>2020-10-07 08:05:00</td>\n",
       "      <td>40</td>\n",
       "      <td>NaN</td>\n",
       "    </tr>\n",
       "    <tr>\n",
       "      <th>48</th>\n",
       "      <td>51659544-3928-4fce-aff1-71c675f11433</td>\n",
       "      <td>cc183d75-38e7-45cd-875c-9d56007cdaac</td>\n",
       "      <td>Not included in the main CME-CPD of the event</td>\n",
       "      <td>Industry Sponsored Session</td>\n",
       "      <td>Industry session hall</td>\n",
       "      <td>2020-10-07 14:30:00</td>\n",
       "      <td>2020-10-07 16:00:00</td>\n",
       "      <td>49</td>\n",
       "      <td>NaN</td>\n",
       "    </tr>\n",
       "    <tr>\n",
       "      <th>49</th>\n",
       "      <td>2fddb44f-719d-48b2-bcc0-67a2e233542f</td>\n",
       "      <td>cc183d75-38e7-45cd-875c-9d56007cdaac</td>\n",
       "      <td>Not included in the main CME-CPD of the event</td>\n",
       "      <td>Industry Sponsored Session</td>\n",
       "      <td>Industry session hall</td>\n",
       "      <td>2020-10-07 16:00:00</td>\n",
       "      <td>2020-10-07 17:30:00</td>\n",
       "      <td>50</td>\n",
       "      <td>•To discuss the importance of achieving LDL-C ...</td>\n",
       "    </tr>\n",
       "  </tbody>\n",
       "</table>\n",
       "</div>"
      ],
      "text/plain": [
       "                                      id  \\\n",
       "0   ef44f0cf-7268-43bb-9b0a-9951f562b0a1   \n",
       "2   fd708ed1-4a13-436f-8c6a-dbb231a031bf   \n",
       "5   eb805b2e-9af1-4f23-8bde-2b3677c937ac   \n",
       "6   771a15e6-5c4e-498c-9e77-4df10171b884   \n",
       "11  0d65ee87-8723-4da7-8efb-073df41bd82f   \n",
       "17  520b30de-6cc5-4d39-b2db-df22b8276780   \n",
       "19  c4c99360-39a5-4e8d-8226-392d672cf38a   \n",
       "21  bcbb46e9-43be-4117-bf0a-e1f0fbac0d9a   \n",
       "22  838fe581-cf12-4a63-969e-8cc270f7abb9   \n",
       "26  94bcd10d-8fdc-4575-be6c-e6e9ffe6e5cc   \n",
       "35  712d5a57-99a2-4140-9d3b-36fc9134f816   \n",
       "37  daa9db7b-7cf4-47a5-99bb-c4ee2c87b111   \n",
       "39  9da4f75d-5617-4306-b0ae-72a114c29dec   \n",
       "48  51659544-3928-4fce-aff1-71c675f11433   \n",
       "49  2fddb44f-719d-48b2-bcc0-67a2e233542f   \n",
       "\n",
       "                                event_id  \\\n",
       "0   cc183d75-38e7-45cd-875c-9d56007cdaac   \n",
       "2   cc183d75-38e7-45cd-875c-9d56007cdaac   \n",
       "5   cc183d75-38e7-45cd-875c-9d56007cdaac   \n",
       "6   cc183d75-38e7-45cd-875c-9d56007cdaac   \n",
       "11  cc183d75-38e7-45cd-875c-9d56007cdaac   \n",
       "17  cc183d75-38e7-45cd-875c-9d56007cdaac   \n",
       "19  cc183d75-38e7-45cd-875c-9d56007cdaac   \n",
       "21  cc183d75-38e7-45cd-875c-9d56007cdaac   \n",
       "22  cc183d75-38e7-45cd-875c-9d56007cdaac   \n",
       "26  cc183d75-38e7-45cd-875c-9d56007cdaac   \n",
       "35  cc183d75-38e7-45cd-875c-9d56007cdaac   \n",
       "37  cc183d75-38e7-45cd-875c-9d56007cdaac   \n",
       "39  cc183d75-38e7-45cd-875c-9d56007cdaac   \n",
       "48  cc183d75-38e7-45cd-875c-9d56007cdaac   \n",
       "49  cc183d75-38e7-45cd-875c-9d56007cdaac   \n",
       "\n",
       "                                                title  \\\n",
       "0            Introduction to the scientific programme   \n",
       "2   NLA/EAS joint session - Dyslipidemia Treatment...   \n",
       "5       Opening Ceremony including Anitschkow Lecture   \n",
       "6            Introduction to the scientific programme   \n",
       "11  Who are the highest risk patients and how do w...   \n",
       "17                    Break between Live Q&A sessions   \n",
       "19                    Break between Live Q&A sessions   \n",
       "21      Not included in the main CME-CPD of the event   \n",
       "22           Introduction to the scientific programme   \n",
       "26  Lipid lowering therapies from childhood to old...   \n",
       "35                    Break between Live Q&A sessions   \n",
       "37                    Break between Live Q&A sessions   \n",
       "39           Introduction to the scientific programme   \n",
       "48      Not included in the main CME-CPD of the event   \n",
       "49      Not included in the main CME-CPD of the event   \n",
       "\n",
       "                                 session_type               location  \\\n",
       "0                                Introduction                 Hall 1   \n",
       "2                             Joint symposium                 Hall 1   \n",
       "5                                     Plenary                 Hall 1   \n",
       "6                                Introduction                 Hall 1   \n",
       "11  Track 4 - Prevention and Treatment of CVD                 Hall 4   \n",
       "17                                      Break                 Hall 1   \n",
       "19                                      Break                 Hall 1   \n",
       "21                 Industry Sponsored Session  Industry session hall   \n",
       "22                               Introduction                 Hall 1   \n",
       "26  Track 4 - Prevention and Treatment of CVD                 Hall 4   \n",
       "35                                      Break                 Hall 1   \n",
       "37                                      Break                 Hall 1   \n",
       "39                               Introduction                 Hall 1   \n",
       "48                 Industry Sponsored Session  Industry session hall   \n",
       "49                 Industry Sponsored Session  Industry session hall   \n",
       "\n",
       "            start_time            end_time  order  \\\n",
       "0  2020-10-04 12:55:00 2020-10-04 13:00:00      1   \n",
       "2  2020-10-04 14:30:00 2020-10-04 15:30:00      3   \n",
       "5  2020-10-04 19:00:00 2020-10-04 20:30:00      6   \n",
       "6  2020-10-05 08:00:00 2020-10-05 08:05:00      7   \n",
       "11 2020-10-05 10:00:00 2020-10-05 11:13:00     12   \n",
       "17 2020-10-05 15:30:00 2020-10-05 16:00:00     18   \n",
       "19 2020-10-05 17:00:00 2020-10-05 17:30:00     20   \n",
       "21 2020-10-05 18:30:00 2020-10-05 20:00:00     22   \n",
       "22 2020-10-06 08:00:00 2020-10-06 08:05:00     23   \n",
       "26 2020-10-06 10:00:00 2020-10-06 11:13:00     27   \n",
       "35 2020-10-06 15:30:00 2020-10-06 16:00:00     36   \n",
       "37 2020-10-06 17:00:00 2020-10-06 17:30:00     38   \n",
       "39 2020-10-07 08:00:00 2020-10-07 08:05:00     40   \n",
       "48 2020-10-07 14:30:00 2020-10-07 16:00:00     49   \n",
       "49 2020-10-07 16:00:00 2020-10-07 17:30:00     50   \n",
       "\n",
       "                                          description  \n",
       "0                                                 NaN  \n",
       "2                                                 NaN  \n",
       "5                                                 NaN  \n",
       "6                                                 NaN  \n",
       "11                                                NaN  \n",
       "17                                                NaN  \n",
       "19                                                NaN  \n",
       "21                                                NaN  \n",
       "22                                                NaN  \n",
       "26                                                NaN  \n",
       "35                                                NaN  \n",
       "37                                                NaN  \n",
       "39                                                NaN  \n",
       "48                                                NaN  \n",
       "49  •To discuss the importance of achieving LDL-C ...  "
      ]
     },
     "execution_count": 15,
     "metadata": {},
     "output_type": "execute_result"
    }
   ],
   "source": [
    "df_session[\n",
    "    ~df_session.id.isin(list(df_session_person.session_id))\n",
    "]"
   ]
  },
  {
   "cell_type": "code",
   "execution_count": null,
   "metadata": {},
   "outputs": [],
   "source": []
  }
 ],
 "metadata": {
  "kernelspec": {
   "display_name": "Python 3",
   "language": "python",
   "name": "python3"
  },
  "language_info": {
   "codemirror_mode": {
    "name": "ipython",
    "version": 3
   },
   "file_extension": ".py",
   "mimetype": "text/x-python",
   "name": "python",
   "nbconvert_exporter": "python",
   "pygments_lexer": "ipython3",
   "version": "3.7.6"
  }
 },
 "nbformat": 4,
 "nbformat_minor": 4
}
