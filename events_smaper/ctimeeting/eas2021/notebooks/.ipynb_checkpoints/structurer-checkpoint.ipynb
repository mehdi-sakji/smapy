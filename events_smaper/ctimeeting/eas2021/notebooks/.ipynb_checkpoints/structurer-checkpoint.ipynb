{
 "cells": [
  {
   "cell_type": "code",
   "execution_count": 50,
   "metadata": {},
   "outputs": [],
   "source": [
    "import pandas as pd\n",
    "import numpy as np\n",
    "import uuid\n",
    "import os\n",
    "import jsonlines\n",
    "import datetime\n",
    "import uuid"
   ]
  },
  {
   "cell_type": "code",
   "execution_count": 51,
   "metadata": {},
   "outputs": [],
   "source": [
    "all_sessions_raw = pd.read_json(\"../output/raw/sessions_all_crawlies.json\")"
   ]
  },
  {
   "cell_type": "code",
   "execution_count": 52,
   "metadata": {},
   "outputs": [
    {
     "data": {
      "text/plain": [
       "id                       3daf5a49-1466-4b98-b6d0-1cb5391e5bd1\n",
       "class                                                 session\n",
       "range                                                     1.0\n",
       "order                                                     2.0\n",
       "event_id                 a12c53cf-a1d6-4def-9c54-a765ccdc3de8\n",
       "title            Lymphatics, lipoproteins and the endothelium\n",
       "location                                               Hall C\n",
       "start_time                                2021-06-01 14:30:00\n",
       "end_time                                  2021-06-01 15:10:00\n",
       "content_id                                                NaN\n",
       "role                                                      NaN\n",
       "full_name                                                 NaN\n",
       "first_name                                                NaN\n",
       "last_name                                                 NaN\n",
       "second_name                                               NaN\n",
       "country                                                   NaN\n",
       "session_order                                             NaN\n",
       "session_range                                             NaN\n",
       "session_id                                                NaN\n",
       "session_type                                              NaN\n",
       "description                                               NaN\n",
       "Name: 0, dtype: object"
      ]
     },
     "execution_count": 52,
     "metadata": {},
     "output_type": "execute_result"
    }
   ],
   "source": [
    "all_sessions_raw.iloc[0]"
   ]
  },
  {
   "cell_type": "markdown",
   "metadata": {},
   "source": [
    "## All sessions"
   ]
  },
  {
   "cell_type": "code",
   "execution_count": 53,
   "metadata": {},
   "outputs": [],
   "source": [
    "# filter sessions from all session data (sessions, pres, persons)\n",
    "sessionsdf = all_sessions_raw[all_sessions_raw[\"class\"] == \"session\"][[\n",
    "        \"id\", \"range\", \"order\", \"event_id\", \"title\", \"location\", \"start_time\", \"end_time\"\n",
    "    ]]"
   ]
  },
  {
   "cell_type": "code",
   "execution_count": 54,
   "metadata": {},
   "outputs": [
    {
     "data": {
      "text/html": [
       "<div>\n",
       "<style scoped>\n",
       "    .dataframe tbody tr th:only-of-type {\n",
       "        vertical-align: middle;\n",
       "    }\n",
       "\n",
       "    .dataframe tbody tr th {\n",
       "        vertical-align: top;\n",
       "    }\n",
       "\n",
       "    .dataframe thead th {\n",
       "        text-align: right;\n",
       "    }\n",
       "</style>\n",
       "<table border=\"1\" class=\"dataframe\">\n",
       "  <thead>\n",
       "    <tr style=\"text-align: right;\">\n",
       "      <th></th>\n",
       "      <th>id</th>\n",
       "      <th>range</th>\n",
       "      <th>order</th>\n",
       "      <th>event_id</th>\n",
       "      <th>title</th>\n",
       "      <th>location</th>\n",
       "      <th>start_time</th>\n",
       "      <th>end_time</th>\n",
       "    </tr>\n",
       "  </thead>\n",
       "  <tbody>\n",
       "    <tr>\n",
       "      <th>0</th>\n",
       "      <td>3daf5a49-1466-4b98-b6d0-1cb5391e5bd1</td>\n",
       "      <td>1.0</td>\n",
       "      <td>2.0</td>\n",
       "      <td>a12c53cf-a1d6-4def-9c54-a765ccdc3de8</td>\n",
       "      <td>Lymphatics, lipoproteins and the endothelium</td>\n",
       "      <td>Hall C</td>\n",
       "      <td>2021-06-01 14:30:00</td>\n",
       "      <td>2021-06-01 15:10:00</td>\n",
       "    </tr>\n",
       "    <tr>\n",
       "      <th>11</th>\n",
       "      <td>cb55033f-259d-4b2a-bfee-0207fd941a49</td>\n",
       "      <td>1.0</td>\n",
       "      <td>1.0</td>\n",
       "      <td>a12c53cf-a1d6-4def-9c54-a765ccdc3de8</td>\n",
       "      <td>Liver as the center of lipid metabolism</td>\n",
       "      <td>Hall E</td>\n",
       "      <td>2021-06-01 14:30:00</td>\n",
       "      <td>2021-06-01 16:00:00</td>\n",
       "    </tr>\n",
       "    <tr>\n",
       "      <th>22</th>\n",
       "      <td>3b09e701-446d-41f2-a06a-04a9f38aae6e</td>\n",
       "      <td>1.0</td>\n",
       "      <td>8.0</td>\n",
       "      <td>a12c53cf-a1d6-4def-9c54-a765ccdc3de8</td>\n",
       "      <td>Workshop: Diet and CVD</td>\n",
       "      <td>Hall B (Live Q&amp;A)</td>\n",
       "      <td>2021-06-01 12:30:00</td>\n",
       "      <td>2021-06-01 14:00:00</td>\n",
       "    </tr>\n",
       "    <tr>\n",
       "      <th>40</th>\n",
       "      <td>a47d4734-499c-4d06-9128-2327607c7bbe</td>\n",
       "      <td>1.0</td>\n",
       "      <td>3.0</td>\n",
       "      <td>a12c53cf-a1d6-4def-9c54-a765ccdc3de8</td>\n",
       "      <td>Workshop: Aortic valve stenosis and Lp(a): fro...</td>\n",
       "      <td>Live Streamed</td>\n",
       "      <td>2021-06-01 16:00:00</td>\n",
       "      <td>2021-06-01 17:30:00</td>\n",
       "    </tr>\n",
       "    <tr>\n",
       "      <th>61</th>\n",
       "      <td>111e3af4-b089-4049-a890-6a20b78d6223</td>\n",
       "      <td>1.0</td>\n",
       "      <td>5.0</td>\n",
       "      <td>a12c53cf-a1d6-4def-9c54-a765ccdc3de8</td>\n",
       "      <td>Workshop: Cell metabolism and  vascular health</td>\n",
       "      <td>Hall D</td>\n",
       "      <td>2021-06-01 14:30:00</td>\n",
       "      <td>2021-06-01 16:00:00</td>\n",
       "    </tr>\n",
       "  </tbody>\n",
       "</table>\n",
       "</div>"
      ],
      "text/plain": [
       "                                      id  range  order  \\\n",
       "0   3daf5a49-1466-4b98-b6d0-1cb5391e5bd1    1.0    2.0   \n",
       "11  cb55033f-259d-4b2a-bfee-0207fd941a49    1.0    1.0   \n",
       "22  3b09e701-446d-41f2-a06a-04a9f38aae6e    1.0    8.0   \n",
       "40  a47d4734-499c-4d06-9128-2327607c7bbe    1.0    3.0   \n",
       "61  111e3af4-b089-4049-a890-6a20b78d6223    1.0    5.0   \n",
       "\n",
       "                                event_id  \\\n",
       "0   a12c53cf-a1d6-4def-9c54-a765ccdc3de8   \n",
       "11  a12c53cf-a1d6-4def-9c54-a765ccdc3de8   \n",
       "22  a12c53cf-a1d6-4def-9c54-a765ccdc3de8   \n",
       "40  a12c53cf-a1d6-4def-9c54-a765ccdc3de8   \n",
       "61  a12c53cf-a1d6-4def-9c54-a765ccdc3de8   \n",
       "\n",
       "                                                title           location  \\\n",
       "0        Lymphatics, lipoproteins and the endothelium             Hall C   \n",
       "11            Liver as the center of lipid metabolism             Hall E   \n",
       "22                             Workshop: Diet and CVD  Hall B (Live Q&A)   \n",
       "40  Workshop: Aortic valve stenosis and Lp(a): fro...      Live Streamed   \n",
       "61     Workshop: Cell metabolism and  vascular health             Hall D   \n",
       "\n",
       "            start_time            end_time  \n",
       "0  2021-06-01 14:30:00 2021-06-01 15:10:00  \n",
       "11 2021-06-01 14:30:00 2021-06-01 16:00:00  \n",
       "22 2021-06-01 12:30:00 2021-06-01 14:00:00  \n",
       "40 2021-06-01 16:00:00 2021-06-01 17:30:00  \n",
       "61 2021-06-01 14:30:00 2021-06-01 16:00:00  "
      ]
     },
     "execution_count": 54,
     "metadata": {},
     "output_type": "execute_result"
    }
   ],
   "source": [
    "sessionsdf.head()"
   ]
  },
  {
   "cell_type": "code",
   "execution_count": 55,
   "metadata": {},
   "outputs": [],
   "source": [
    "# convert range and order to integers\n",
    "sessionsdf[\"range\"] = sessionsdf[\"range\"].apply(lambda x: int(x))\n",
    "sessionsdf[\"order\"] = sessionsdf[\"order\"].apply(lambda x: int(x))"
   ]
  },
  {
   "cell_type": "code",
   "execution_count": 56,
   "metadata": {},
   "outputs": [
    {
     "data": {
      "text/html": [
       "<div>\n",
       "<style scoped>\n",
       "    .dataframe tbody tr th:only-of-type {\n",
       "        vertical-align: middle;\n",
       "    }\n",
       "\n",
       "    .dataframe tbody tr th {\n",
       "        vertical-align: top;\n",
       "    }\n",
       "\n",
       "    .dataframe thead th {\n",
       "        text-align: right;\n",
       "    }\n",
       "</style>\n",
       "<table border=\"1\" class=\"dataframe\">\n",
       "  <thead>\n",
       "    <tr style=\"text-align: right;\">\n",
       "      <th></th>\n",
       "      <th>id</th>\n",
       "      <th>range</th>\n",
       "      <th>order</th>\n",
       "      <th>event_id</th>\n",
       "      <th>title</th>\n",
       "      <th>location</th>\n",
       "      <th>start_time</th>\n",
       "      <th>end_time</th>\n",
       "    </tr>\n",
       "  </thead>\n",
       "  <tbody>\n",
       "  </tbody>\n",
       "</table>\n",
       "</div>"
      ],
      "text/plain": [
       "Empty DataFrame\n",
       "Columns: [id, range, order, event_id, title, location, start_time, end_time]\n",
       "Index: []"
      ]
     },
     "execution_count": 56,
     "metadata": {},
     "output_type": "execute_result"
    }
   ],
   "source": [
    "# visualize duplicated sessions\n",
    "sessionsdf[sessionsdf.duplicated(['title'])]"
   ]
  },
  {
   "cell_type": "code",
   "execution_count": 57,
   "metadata": {},
   "outputs": [
    {
     "data": {
      "text/plain": [
       "45"
      ]
     },
     "execution_count": 57,
     "metadata": {},
     "output_type": "execute_result"
    }
   ],
   "source": [
    "len(sessionsdf)"
   ]
  },
  {
   "cell_type": "code",
   "execution_count": 58,
   "metadata": {},
   "outputs": [],
   "source": [
    "event_id = sessionsdf.iloc[0][\"event_id\"]"
   ]
  },
  {
   "cell_type": "code",
   "execution_count": 35,
   "metadata": {},
   "outputs": [],
   "source": [
    "# sessionsdf[\"start_time\"]"
   ]
  },
  {
   "cell_type": "code",
   "execution_count": 59,
   "metadata": {},
   "outputs": [
    {
     "data": {
      "text/plain": [
       "Index(['id', 'range', 'order', 'event_id', 'title', 'location', 'start_time',\n",
       "       'end_time'],\n",
       "      dtype='object')"
      ]
     },
     "execution_count": 59,
     "metadata": {},
     "output_type": "execute_result"
    }
   ],
   "source": [
    "sessionsdf.columns"
   ]
  },
  {
   "cell_type": "code",
   "execution_count": 60,
   "metadata": {},
   "outputs": [
    {
     "data": {
      "text/html": [
       "<div>\n",
       "<style scoped>\n",
       "    .dataframe tbody tr th:only-of-type {\n",
       "        vertical-align: middle;\n",
       "    }\n",
       "\n",
       "    .dataframe tbody tr th {\n",
       "        vertical-align: top;\n",
       "    }\n",
       "\n",
       "    .dataframe thead th {\n",
       "        text-align: right;\n",
       "    }\n",
       "</style>\n",
       "<table border=\"1\" class=\"dataframe\">\n",
       "  <thead>\n",
       "    <tr style=\"text-align: right;\">\n",
       "      <th></th>\n",
       "      <th>id</th>\n",
       "      <th>range</th>\n",
       "      <th>order</th>\n",
       "      <th>event_id</th>\n",
       "      <th>title</th>\n",
       "      <th>location</th>\n",
       "      <th>start_time</th>\n",
       "      <th>end_time</th>\n",
       "    </tr>\n",
       "  </thead>\n",
       "  <tbody>\n",
       "    <tr>\n",
       "      <th>684</th>\n",
       "      <td>2132b255-b30c-4d5f-8bcf-b2e448bf3b3b</td>\n",
       "      <td>4</td>\n",
       "      <td>1</td>\n",
       "      <td>a12c53cf-a1d6-4def-9c54-a765ccdc3de8</td>\n",
       "      <td>Meet the experts - Overcoming barriers to popu...</td>\n",
       "      <td>Meet the expert session hall</td>\n",
       "      <td>2021-05-31 16:30:00</td>\n",
       "      <td>2021-05-31 17:00:00</td>\n",
       "    </tr>\n",
       "  </tbody>\n",
       "</table>\n",
       "</div>"
      ],
      "text/plain": [
       "                                       id  range  order  \\\n",
       "684  2132b255-b30c-4d5f-8bcf-b2e448bf3b3b      4      1   \n",
       "\n",
       "                                 event_id  \\\n",
       "684  a12c53cf-a1d6-4def-9c54-a765ccdc3de8   \n",
       "\n",
       "                                                 title  \\\n",
       "684  Meet the experts - Overcoming barriers to popu...   \n",
       "\n",
       "                         location          start_time            end_time  \n",
       "684  Meet the expert session hall 2021-05-31 16:30:00 2021-05-31 17:00:00  "
      ]
     },
     "execution_count": 60,
     "metadata": {},
     "output_type": "execute_result"
    }
   ],
   "source": [
    "sessionsdf[sessionsdf[\"title\"]==\"Meet the experts - Overcoming barriers to population health-through siRNA based therapies\"]"
   ]
  },
  {
   "cell_type": "code",
   "execution_count": 61,
   "metadata": {},
   "outputs": [],
   "source": [
    "# add non referenced sessions\n",
    "sessionsdf = sessionsdf.append(pd.DataFrame([{\n",
    "    \"id\": str(uuid.uuid4()),\n",
    "    \"range\": 4, \"order\": 1.3, \"event_id\": event_id, \"title\": \"Meet the experts - Addressing residual risk beyond LDL-c in high or very high-risk patients\",\n",
    "    \"location\": \"Meet the expert session hall\",\n",
    "    \"start_time\": datetime.datetime.strptime(\"20210531-1730\", '%Y%m%d-%H%M'),\n",
    "    \"end_time\": datetime.datetime.strptime(\"20210531-1800\", '%Y%m%d-%H%M')}]))"
   ]
  },
  {
   "cell_type": "code",
   "execution_count": 62,
   "metadata": {},
   "outputs": [],
   "source": [
    "# add non referenced sessions\n",
    "sessionsdf = sessionsdf.append(pd.DataFrame([{\n",
    "    \"id\": str(uuid.uuid4()),\n",
    "    \"range\": 4, \"order\": 1.6, \"event_id\": event_id, \"title\": \"Meet the experts - Novel pathways for intensive lipid lowering\",\n",
    "    \"location\": \"Meet the expert session hall\",\n",
    "    \"start_time\": datetime.datetime.strptime(\"20210601-1630\", '%Y%m%d-%H%M'),\n",
    "    \"end_time\": datetime.datetime.strptime(\"20210601-1700\", '%Y%m%d-%H%M')}]))"
   ]
  },
  {
   "cell_type": "code",
   "execution_count": 63,
   "metadata": {},
   "outputs": [
    {
     "data": {
      "text/plain": [
       "47"
      ]
     },
     "execution_count": 63,
     "metadata": {},
     "output_type": "execute_result"
    }
   ],
   "source": [
    "len(sessionsdf)"
   ]
  },
  {
   "cell_type": "code",
   "execution_count": 64,
   "metadata": {},
   "outputs": [
    {
     "data": {
      "text/html": [
       "<div>\n",
       "<style scoped>\n",
       "    .dataframe tbody tr th:only-of-type {\n",
       "        vertical-align: middle;\n",
       "    }\n",
       "\n",
       "    .dataframe tbody tr th {\n",
       "        vertical-align: top;\n",
       "    }\n",
       "\n",
       "    .dataframe thead th {\n",
       "        text-align: right;\n",
       "    }\n",
       "</style>\n",
       "<table border=\"1\" class=\"dataframe\">\n",
       "  <thead>\n",
       "    <tr style=\"text-align: right;\">\n",
       "      <th></th>\n",
       "      <th>id</th>\n",
       "      <th>range</th>\n",
       "      <th>order</th>\n",
       "      <th>event_id</th>\n",
       "      <th>title</th>\n",
       "      <th>location</th>\n",
       "      <th>start_time</th>\n",
       "      <th>end_time</th>\n",
       "    </tr>\n",
       "  </thead>\n",
       "  <tbody>\n",
       "    <tr>\n",
       "      <th>0</th>\n",
       "      <td>912abaa5-9ffe-456f-9f34-0476c3c380b0</td>\n",
       "      <td>4</td>\n",
       "      <td>1.3</td>\n",
       "      <td>a12c53cf-a1d6-4def-9c54-a765ccdc3de8</td>\n",
       "      <td>Meet the experts - Addressing residual risk be...</td>\n",
       "      <td>Meet the expert session hall</td>\n",
       "      <td>2021-05-31 17:30:00</td>\n",
       "      <td>2021-05-31 18:00:00</td>\n",
       "    </tr>\n",
       "    <tr>\n",
       "      <th>0</th>\n",
       "      <td>c6953f11-fff5-4cfd-8fa3-0af169fb057e</td>\n",
       "      <td>4</td>\n",
       "      <td>1.6</td>\n",
       "      <td>a12c53cf-a1d6-4def-9c54-a765ccdc3de8</td>\n",
       "      <td>Meet the experts - Novel pathways for intensiv...</td>\n",
       "      <td>Meet the expert session hall</td>\n",
       "      <td>2021-06-01 16:30:00</td>\n",
       "      <td>2021-06-01 17:00:00</td>\n",
       "    </tr>\n",
       "  </tbody>\n",
       "</table>\n",
       "</div>"
      ],
      "text/plain": [
       "                                     id  range  order  \\\n",
       "0  912abaa5-9ffe-456f-9f34-0476c3c380b0      4    1.3   \n",
       "0  c6953f11-fff5-4cfd-8fa3-0af169fb057e      4    1.6   \n",
       "\n",
       "                               event_id  \\\n",
       "0  a12c53cf-a1d6-4def-9c54-a765ccdc3de8   \n",
       "0  a12c53cf-a1d6-4def-9c54-a765ccdc3de8   \n",
       "\n",
       "                                               title  \\\n",
       "0  Meet the experts - Addressing residual risk be...   \n",
       "0  Meet the experts - Novel pathways for intensiv...   \n",
       "\n",
       "                       location          start_time            end_time  \n",
       "0  Meet the expert session hall 2021-05-31 17:30:00 2021-05-31 18:00:00  \n",
       "0  Meet the expert session hall 2021-06-01 16:30:00 2021-06-01 17:00:00  "
      ]
     },
     "execution_count": 64,
     "metadata": {},
     "output_type": "execute_result"
    }
   ],
   "source": [
    "sessionsdf[-2:]"
   ]
  },
  {
   "cell_type": "code",
   "execution_count": 65,
   "metadata": {},
   "outputs": [],
   "source": [
    "# Don't forget session chairs"
   ]
  },
  {
   "cell_type": "code",
   "execution_count": 66,
   "metadata": {},
   "outputs": [],
   "source": [
    "# Reorder sessions\n",
    "sessionsdf[\"rangeorder\"] = sessionsdf[\"range\"]*100 + sessionsdf[\"order\"]\n",
    "sessionsdf.sort_values(by=\"rangeorder\", inplace=True)\n",
    "sessionsdf.reset_index(inplace=True, drop=True)\n",
    "sessionsdf[\"order\"] = sessionsdf.index + 1"
   ]
  },
  {
   "cell_type": "code",
   "execution_count": 67,
   "metadata": {},
   "outputs": [],
   "source": [
    "sessionsdf.drop(columns=[\"range\"], inplace=True)"
   ]
  },
  {
   "cell_type": "code",
   "execution_count": 68,
   "metadata": {},
   "outputs": [
    {
     "data": {
      "text/html": [
       "<div>\n",
       "<style scoped>\n",
       "    .dataframe tbody tr th:only-of-type {\n",
       "        vertical-align: middle;\n",
       "    }\n",
       "\n",
       "    .dataframe tbody tr th {\n",
       "        vertical-align: top;\n",
       "    }\n",
       "\n",
       "    .dataframe thead th {\n",
       "        text-align: right;\n",
       "    }\n",
       "</style>\n",
       "<table border=\"1\" class=\"dataframe\">\n",
       "  <thead>\n",
       "    <tr style=\"text-align: right;\">\n",
       "      <th></th>\n",
       "      <th>id</th>\n",
       "      <th>order</th>\n",
       "      <th>event_id</th>\n",
       "      <th>title</th>\n",
       "      <th>location</th>\n",
       "      <th>start_time</th>\n",
       "      <th>end_time</th>\n",
       "      <th>rangeorder</th>\n",
       "    </tr>\n",
       "  </thead>\n",
       "  <tbody>\n",
       "    <tr>\n",
       "      <th>0</th>\n",
       "      <td>10ce7b00-8a9c-4195-9e1e-7c5b6b4714fc</td>\n",
       "      <td>1</td>\n",
       "      <td>a12c53cf-a1d6-4def-9c54-a765ccdc3de8</td>\n",
       "      <td>Current insights into the role of gut microbio...</td>\n",
       "      <td>Hall D</td>\n",
       "      <td>2021-05-31 16:00:00</td>\n",
       "      <td>2021-05-31 17:30:00</td>\n",
       "      <td>100.0</td>\n",
       "    </tr>\n",
       "    <tr>\n",
       "      <th>1</th>\n",
       "      <td>cb55033f-259d-4b2a-bfee-0207fd941a49</td>\n",
       "      <td>2</td>\n",
       "      <td>a12c53cf-a1d6-4def-9c54-a765ccdc3de8</td>\n",
       "      <td>Liver as the center of lipid metabolism</td>\n",
       "      <td>Hall E</td>\n",
       "      <td>2021-06-01 14:30:00</td>\n",
       "      <td>2021-06-01 16:00:00</td>\n",
       "      <td>101.0</td>\n",
       "    </tr>\n",
       "    <tr>\n",
       "      <th>2</th>\n",
       "      <td>3daf5a49-1466-4b98-b6d0-1cb5391e5bd1</td>\n",
       "      <td>3</td>\n",
       "      <td>a12c53cf-a1d6-4def-9c54-a765ccdc3de8</td>\n",
       "      <td>Lymphatics, lipoproteins and the endothelium</td>\n",
       "      <td>Hall C</td>\n",
       "      <td>2021-06-01 14:30:00</td>\n",
       "      <td>2021-06-01 15:10:00</td>\n",
       "      <td>102.0</td>\n",
       "    </tr>\n",
       "    <tr>\n",
       "      <th>3</th>\n",
       "      <td>a47d4734-499c-4d06-9128-2327607c7bbe</td>\n",
       "      <td>4</td>\n",
       "      <td>a12c53cf-a1d6-4def-9c54-a765ccdc3de8</td>\n",
       "      <td>Workshop: Aortic valve stenosis and Lp(a): fro...</td>\n",
       "      <td>Live Streamed</td>\n",
       "      <td>2021-06-01 16:00:00</td>\n",
       "      <td>2021-06-01 17:30:00</td>\n",
       "      <td>103.0</td>\n",
       "    </tr>\n",
       "    <tr>\n",
       "      <th>4</th>\n",
       "      <td>0580a215-6282-4d05-9bd8-69b4a49001bb</td>\n",
       "      <td>5</td>\n",
       "      <td>a12c53cf-a1d6-4def-9c54-a765ccdc3de8</td>\n",
       "      <td>Workshop: Influence of genes on the susceptibi...</td>\n",
       "      <td>Live Streamed</td>\n",
       "      <td>2021-05-31 15:00:00</td>\n",
       "      <td>2021-05-31 16:30:00</td>\n",
       "      <td>104.0</td>\n",
       "    </tr>\n",
       "  </tbody>\n",
       "</table>\n",
       "</div>"
      ],
      "text/plain": [
       "                                     id  order  \\\n",
       "0  10ce7b00-8a9c-4195-9e1e-7c5b6b4714fc      1   \n",
       "1  cb55033f-259d-4b2a-bfee-0207fd941a49      2   \n",
       "2  3daf5a49-1466-4b98-b6d0-1cb5391e5bd1      3   \n",
       "3  a47d4734-499c-4d06-9128-2327607c7bbe      4   \n",
       "4  0580a215-6282-4d05-9bd8-69b4a49001bb      5   \n",
       "\n",
       "                               event_id  \\\n",
       "0  a12c53cf-a1d6-4def-9c54-a765ccdc3de8   \n",
       "1  a12c53cf-a1d6-4def-9c54-a765ccdc3de8   \n",
       "2  a12c53cf-a1d6-4def-9c54-a765ccdc3de8   \n",
       "3  a12c53cf-a1d6-4def-9c54-a765ccdc3de8   \n",
       "4  a12c53cf-a1d6-4def-9c54-a765ccdc3de8   \n",
       "\n",
       "                                               title       location  \\\n",
       "0  Current insights into the role of gut microbio...         Hall D   \n",
       "1            Liver as the center of lipid metabolism         Hall E   \n",
       "2       Lymphatics, lipoproteins and the endothelium         Hall C   \n",
       "3  Workshop: Aortic valve stenosis and Lp(a): fro...  Live Streamed   \n",
       "4  Workshop: Influence of genes on the susceptibi...  Live Streamed   \n",
       "\n",
       "           start_time            end_time  rangeorder  \n",
       "0 2021-05-31 16:00:00 2021-05-31 17:30:00       100.0  \n",
       "1 2021-06-01 14:30:00 2021-06-01 16:00:00       101.0  \n",
       "2 2021-06-01 14:30:00 2021-06-01 15:10:00       102.0  \n",
       "3 2021-06-01 16:00:00 2021-06-01 17:30:00       103.0  \n",
       "4 2021-05-31 15:00:00 2021-05-31 16:30:00       104.0  "
      ]
     },
     "execution_count": 68,
     "metadata": {},
     "output_type": "execute_result"
    }
   ],
   "source": [
    "sessionsdf.head()"
   ]
  },
  {
   "cell_type": "code",
   "execution_count": 69,
   "metadata": {},
   "outputs": [
    {
     "data": {
      "text/html": [
       "<div>\n",
       "<style scoped>\n",
       "    .dataframe tbody tr th:only-of-type {\n",
       "        vertical-align: middle;\n",
       "    }\n",
       "\n",
       "    .dataframe tbody tr th {\n",
       "        vertical-align: top;\n",
       "    }\n",
       "\n",
       "    .dataframe thead th {\n",
       "        text-align: right;\n",
       "    }\n",
       "</style>\n",
       "<table border=\"1\" class=\"dataframe\">\n",
       "  <thead>\n",
       "    <tr style=\"text-align: right;\">\n",
       "      <th></th>\n",
       "      <th>id</th>\n",
       "      <th>order</th>\n",
       "      <th>event_id</th>\n",
       "      <th>title</th>\n",
       "      <th>location</th>\n",
       "      <th>start_time</th>\n",
       "      <th>end_time</th>\n",
       "      <th>rangeorder</th>\n",
       "    </tr>\n",
       "  </thead>\n",
       "  <tbody>\n",
       "    <tr>\n",
       "      <th>45</th>\n",
       "      <td>1843e4ff-49d9-4fa5-a46e-07e6154d6e76</td>\n",
       "      <td>46</td>\n",
       "      <td>a12c53cf-a1d6-4def-9c54-a765ccdc3de8</td>\n",
       "      <td>Sponsored Session 4 (not Included in the main ...</td>\n",
       "      <td>Industry session hall</td>\n",
       "      <td>2021-06-01 11:00:00</td>\n",
       "      <td>2021-06-01 11:45:00</td>\n",
       "      <td>409.0</td>\n",
       "    </tr>\n",
       "    <tr>\n",
       "      <th>46</th>\n",
       "      <td>f67357ce-c4e3-4419-a348-6455ccceb932</td>\n",
       "      <td>47</td>\n",
       "      <td>a12c53cf-a1d6-4def-9c54-a765ccdc3de8</td>\n",
       "      <td>Sponsored Session 5 (not Included in the main ...</td>\n",
       "      <td>Industry session hall</td>\n",
       "      <td>2021-06-02 11:00:00</td>\n",
       "      <td>2021-06-02 11:45:00</td>\n",
       "      <td>410.0</td>\n",
       "    </tr>\n",
       "  </tbody>\n",
       "</table>\n",
       "</div>"
      ],
      "text/plain": [
       "                                      id  order  \\\n",
       "45  1843e4ff-49d9-4fa5-a46e-07e6154d6e76     46   \n",
       "46  f67357ce-c4e3-4419-a348-6455ccceb932     47   \n",
       "\n",
       "                                event_id  \\\n",
       "45  a12c53cf-a1d6-4def-9c54-a765ccdc3de8   \n",
       "46  a12c53cf-a1d6-4def-9c54-a765ccdc3de8   \n",
       "\n",
       "                                                title               location  \\\n",
       "45  Sponsored Session 4 (not Included in the main ...  Industry session hall   \n",
       "46  Sponsored Session 5 (not Included in the main ...  Industry session hall   \n",
       "\n",
       "            start_time            end_time  rangeorder  \n",
       "45 2021-06-01 11:00:00 2021-06-01 11:45:00       409.0  \n",
       "46 2021-06-02 11:00:00 2021-06-02 11:45:00       410.0  "
      ]
     },
     "execution_count": 69,
     "metadata": {},
     "output_type": "execute_result"
    }
   ],
   "source": [
    "sessionsdf[-2:]"
   ]
  },
  {
   "cell_type": "code",
   "execution_count": 70,
   "metadata": {},
   "outputs": [],
   "source": [
    "presentationsdf = all_sessions_raw[all_sessions_raw[\"class\"] == \"presentation\"][[\n",
    "        \"id\", \"title\", \"order\", \"start_time\", \"end_time\", \"session_id\", \"description\",\n",
    "        \"session_order\", \"session_range\", \"session_type\"]]"
   ]
  },
  {
   "cell_type": "code",
   "execution_count": 81,
   "metadata": {},
   "outputs": [],
   "source": [
    "sessionsdf = sessionsdf.merge(\n",
    "    presentationsdf[[\"session_id\", \"session_type\"]], left_on=\"id\", right_on=\"session_id\", how=\"left\").drop_duplicates()"
   ]
  },
  {
   "cell_type": "code",
   "execution_count": 82,
   "metadata": {},
   "outputs": [
    {
     "name": "stdout",
     "output_type": "stream",
     "text": [
      "47\n",
      "47\n"
     ]
    }
   ],
   "source": [
    "print(len(sessionsdf))\n",
    "print(len(test))"
   ]
  },
  {
   "cell_type": "code",
   "execution_count": 22,
   "metadata": {},
   "outputs": [],
   "source": [
    "with jsonlines.open('../output/structured/Session.jsonl', mode='w') as writer:\n",
    "    sessionsdf[\"start_time\"] = sessionsdf[\"start_time\"].dt.strftime(\"%Y-%m-%dT%H:%M:%S.%f\")\n",
    "    sessionsdf[\"end_time\"] = sessionsdf[\"end_time\"].dt.strftime(\"%Y-%m-%dT%H:%M:%S.%f\")\n",
    "    writer.write_all(sessionsdf.T.apply(lambda x: x.dropna().to_dict()).tolist())"
   ]
  },
  {
   "cell_type": "markdown",
   "metadata": {},
   "source": [
    "## All presentations, including e-posters"
   ]
  },
  {
   "cell_type": "code",
   "execution_count": 25,
   "metadata": {},
   "outputs": [
    {
     "data": {
      "text/plain": [
       "id               51a89650-e7f0-445f-8b5f-dfffb3e499cc\n",
       "class                                    presentation\n",
       "range                                             NaN\n",
       "order                                             1.0\n",
       "event_id         a12c53cf-a1d6-4def-9c54-a765ccdc3de8\n",
       "title                              Supported by Amgen\n",
       "location                                          NaN\n",
       "start_time                        2021-05-30 09:45:00\n",
       "end_time                          2021-05-30 09:45:00\n",
       "content_id                                        NaN\n",
       "role                                              NaN\n",
       "full_name                                         NaN\n",
       "first_name                                        NaN\n",
       "last_name                                         NaN\n",
       "second_name                                       NaN\n",
       "country                                           NaN\n",
       "session_order                                     5.0\n",
       "session_range                                     4.0\n",
       "session_id       a35bbe75-4661-43cd-9d74-7a4069d5a254\n",
       "session_type               Industry Sponsored Session\n",
       "description                                       NaN\n",
       "Name: 665, dtype: object"
      ]
     },
     "execution_count": 25,
     "metadata": {},
     "output_type": "execute_result"
    }
   ],
   "source": [
    "# Filter presentations\n",
    "all_sessions_raw[all_sessions_raw[\"class\"]==\"presentation\"].iloc[250]"
   ]
  },
  {
   "cell_type": "code",
   "execution_count": 24,
   "metadata": {},
   "outputs": [],
   "source": [
    "presentationsdf = all_sessions_raw[all_sessions_raw[\"class\"] == \"presentation\"][[\n",
    "        \"id\", \"title\", \"order\", \"start_time\", \"end_time\", \"session_id\", \"description\",\n",
    "        \"session_order\", \"session_range\"]]"
   ]
  },
  {
   "cell_type": "code",
   "execution_count": null,
   "metadata": {},
   "outputs": [],
   "source": []
  },
  {
   "cell_type": "code",
   "execution_count": 145,
   "metadata": {},
   "outputs": [
    {
     "data": {
      "text/plain": [
       "[]"
      ]
     },
     "execution_count": 145,
     "metadata": {},
     "output_type": "execute_result"
    }
   ],
   "source": [
    "[item for item in presentationsdf.session_id if item not in list(sessionsdf.id)]"
   ]
  },
  {
   "cell_type": "code",
   "execution_count": 146,
   "metadata": {},
   "outputs": [
    {
     "data": {
      "text/html": [
       "<div>\n",
       "<style scoped>\n",
       "    .dataframe tbody tr th:only-of-type {\n",
       "        vertical-align: middle;\n",
       "    }\n",
       "\n",
       "    .dataframe tbody tr th {\n",
       "        vertical-align: top;\n",
       "    }\n",
       "\n",
       "    .dataframe thead th {\n",
       "        text-align: right;\n",
       "    }\n",
       "</style>\n",
       "<table border=\"1\" class=\"dataframe\">\n",
       "  <thead>\n",
       "    <tr style=\"text-align: right;\">\n",
       "      <th></th>\n",
       "      <th>id</th>\n",
       "      <th>title</th>\n",
       "      <th>order</th>\n",
       "      <th>start_time</th>\n",
       "      <th>end_time</th>\n",
       "      <th>session_id</th>\n",
       "      <th>description</th>\n",
       "      <th>session_order</th>\n",
       "      <th>session_range</th>\n",
       "    </tr>\n",
       "  </thead>\n",
       "  <tbody>\n",
       "    <tr>\n",
       "      <th>3</th>\n",
       "      <td>40f9964b-4a75-4f75-8995-d86cb903a36b</td>\n",
       "      <td>Introduction</td>\n",
       "      <td>0.0</td>\n",
       "      <td>2021-05-31 16:00:00</td>\n",
       "      <td>2021-05-31 16:03:00</td>\n",
       "      <td>55726fce-937f-4c60-bd10-d3159e157adf</td>\n",
       "      <td>NaN</td>\n",
       "      <td>0.0</td>\n",
       "      <td>1.0</td>\n",
       "    </tr>\n",
       "    <tr>\n",
       "      <th>6</th>\n",
       "      <td>09ca1ebc-c203-476f-b93c-51722ada74da</td>\n",
       "      <td>Is gut microbiota a risk factor for cardiovasc...</td>\n",
       "      <td>1.0</td>\n",
       "      <td>2021-05-31 16:03:00</td>\n",
       "      <td>2021-05-31 16:18:00</td>\n",
       "      <td>55726fce-937f-4c60-bd10-d3159e157adf</td>\n",
       "      <td>NaN</td>\n",
       "      <td>0.0</td>\n",
       "      <td>1.0</td>\n",
       "    </tr>\n",
       "    <tr>\n",
       "      <th>8</th>\n",
       "      <td>43cc35bd-828c-472c-8b84-6b58576a0e95</td>\n",
       "      <td>The Impact of Diet on Gut Microbiota in Health...</td>\n",
       "      <td>2.0</td>\n",
       "      <td>2021-05-31 16:18:00</td>\n",
       "      <td>2021-05-31 16:33:00</td>\n",
       "      <td>55726fce-937f-4c60-bd10-d3159e157adf</td>\n",
       "      <td>NaN</td>\n",
       "      <td>0.0</td>\n",
       "      <td>1.0</td>\n",
       "    </tr>\n",
       "    <tr>\n",
       "      <th>10</th>\n",
       "      <td>4d36916e-21d5-4fb8-bdc0-f6d13b209fe6</td>\n",
       "      <td>Conclusion</td>\n",
       "      <td>3.0</td>\n",
       "      <td>2021-05-31 16:33:00</td>\n",
       "      <td>2021-05-31 16:36:00</td>\n",
       "      <td>55726fce-937f-4c60-bd10-d3159e157adf</td>\n",
       "      <td>NaN</td>\n",
       "      <td>0.0</td>\n",
       "      <td>1.0</td>\n",
       "    </tr>\n",
       "    <tr>\n",
       "      <th>16</th>\n",
       "      <td>4bdf4321-d97a-463b-975c-01b4bdd600b7</td>\n",
       "      <td>Introduction</td>\n",
       "      <td>0.0</td>\n",
       "      <td>2021-06-02 15:30:00</td>\n",
       "      <td>2021-06-02 15:33:00</td>\n",
       "      <td>4e9a759b-afec-4aa7-91fc-868aebfed149</td>\n",
       "      <td>NaN</td>\n",
       "      <td>6.0</td>\n",
       "      <td>1.0</td>\n",
       "    </tr>\n",
       "  </tbody>\n",
       "</table>\n",
       "</div>"
      ],
      "text/plain": [
       "                                      id  \\\n",
       "3   40f9964b-4a75-4f75-8995-d86cb903a36b   \n",
       "6   09ca1ebc-c203-476f-b93c-51722ada74da   \n",
       "8   43cc35bd-828c-472c-8b84-6b58576a0e95   \n",
       "10  4d36916e-21d5-4fb8-bdc0-f6d13b209fe6   \n",
       "16  4bdf4321-d97a-463b-975c-01b4bdd600b7   \n",
       "\n",
       "                                                title  order  \\\n",
       "3                                        Introduction    0.0   \n",
       "6   Is gut microbiota a risk factor for cardiovasc...    1.0   \n",
       "8   The Impact of Diet on Gut Microbiota in Health...    2.0   \n",
       "10                                         Conclusion    3.0   \n",
       "16                                       Introduction    0.0   \n",
       "\n",
       "            start_time            end_time  \\\n",
       "3  2021-05-31 16:00:00 2021-05-31 16:03:00   \n",
       "6  2021-05-31 16:03:00 2021-05-31 16:18:00   \n",
       "8  2021-05-31 16:18:00 2021-05-31 16:33:00   \n",
       "10 2021-05-31 16:33:00 2021-05-31 16:36:00   \n",
       "16 2021-06-02 15:30:00 2021-06-02 15:33:00   \n",
       "\n",
       "                              session_id description  session_order  \\\n",
       "3   55726fce-937f-4c60-bd10-d3159e157adf         NaN            0.0   \n",
       "6   55726fce-937f-4c60-bd10-d3159e157adf         NaN            0.0   \n",
       "8   55726fce-937f-4c60-bd10-d3159e157adf         NaN            0.0   \n",
       "10  55726fce-937f-4c60-bd10-d3159e157adf         NaN            0.0   \n",
       "16  4e9a759b-afec-4aa7-91fc-868aebfed149         NaN            6.0   \n",
       "\n",
       "    session_range  \n",
       "3             1.0  \n",
       "6             1.0  \n",
       "8             1.0  \n",
       "10            1.0  \n",
       "16            1.0  "
      ]
     },
     "execution_count": 146,
     "metadata": {},
     "output_type": "execute_result"
    }
   ],
   "source": [
    "presentationsdf.head()"
   ]
  },
  {
   "cell_type": "code",
   "execution_count": 147,
   "metadata": {},
   "outputs": [],
   "source": [
    "presentationsdf[\"order\"] = presentationsdf[\"order\"].apply(lambda x: int(x))\n",
    "presentationsdf[\"session_order\"] = presentationsdf[\"session_order\"].apply(lambda x: int(x))\n",
    "presentationsdf[\"session_range\"] = presentationsdf[\"session_range\"].apply(lambda x: int(x))"
   ]
  },
  {
   "cell_type": "code",
   "execution_count": 148,
   "metadata": {},
   "outputs": [
    {
     "data": {
      "text/html": [
       "<div>\n",
       "<style scoped>\n",
       "    .dataframe tbody tr th:only-of-type {\n",
       "        vertical-align: middle;\n",
       "    }\n",
       "\n",
       "    .dataframe tbody tr th {\n",
       "        vertical-align: top;\n",
       "    }\n",
       "\n",
       "    .dataframe thead th {\n",
       "        text-align: right;\n",
       "    }\n",
       "</style>\n",
       "<table border=\"1\" class=\"dataframe\">\n",
       "  <thead>\n",
       "    <tr style=\"text-align: right;\">\n",
       "      <th></th>\n",
       "      <th>id</th>\n",
       "      <th>title</th>\n",
       "      <th>order</th>\n",
       "      <th>start_time</th>\n",
       "      <th>end_time</th>\n",
       "      <th>session_id</th>\n",
       "      <th>description</th>\n",
       "      <th>session_order</th>\n",
       "      <th>session_range</th>\n",
       "    </tr>\n",
       "  </thead>\n",
       "  <tbody>\n",
       "    <tr>\n",
       "      <th>3</th>\n",
       "      <td>40f9964b-4a75-4f75-8995-d86cb903a36b</td>\n",
       "      <td>Introduction</td>\n",
       "      <td>0</td>\n",
       "      <td>2021-05-31 16:00:00</td>\n",
       "      <td>2021-05-31 16:03:00</td>\n",
       "      <td>55726fce-937f-4c60-bd10-d3159e157adf</td>\n",
       "      <td>NaN</td>\n",
       "      <td>0</td>\n",
       "      <td>1</td>\n",
       "    </tr>\n",
       "    <tr>\n",
       "      <th>6</th>\n",
       "      <td>09ca1ebc-c203-476f-b93c-51722ada74da</td>\n",
       "      <td>Is gut microbiota a risk factor for cardiovasc...</td>\n",
       "      <td>1</td>\n",
       "      <td>2021-05-31 16:03:00</td>\n",
       "      <td>2021-05-31 16:18:00</td>\n",
       "      <td>55726fce-937f-4c60-bd10-d3159e157adf</td>\n",
       "      <td>NaN</td>\n",
       "      <td>0</td>\n",
       "      <td>1</td>\n",
       "    </tr>\n",
       "    <tr>\n",
       "      <th>8</th>\n",
       "      <td>43cc35bd-828c-472c-8b84-6b58576a0e95</td>\n",
       "      <td>The Impact of Diet on Gut Microbiota in Health...</td>\n",
       "      <td>2</td>\n",
       "      <td>2021-05-31 16:18:00</td>\n",
       "      <td>2021-05-31 16:33:00</td>\n",
       "      <td>55726fce-937f-4c60-bd10-d3159e157adf</td>\n",
       "      <td>NaN</td>\n",
       "      <td>0</td>\n",
       "      <td>1</td>\n",
       "    </tr>\n",
       "    <tr>\n",
       "      <th>10</th>\n",
       "      <td>4d36916e-21d5-4fb8-bdc0-f6d13b209fe6</td>\n",
       "      <td>Conclusion</td>\n",
       "      <td>3</td>\n",
       "      <td>2021-05-31 16:33:00</td>\n",
       "      <td>2021-05-31 16:36:00</td>\n",
       "      <td>55726fce-937f-4c60-bd10-d3159e157adf</td>\n",
       "      <td>NaN</td>\n",
       "      <td>0</td>\n",
       "      <td>1</td>\n",
       "    </tr>\n",
       "    <tr>\n",
       "      <th>16</th>\n",
       "      <td>4bdf4321-d97a-463b-975c-01b4bdd600b7</td>\n",
       "      <td>Introduction</td>\n",
       "      <td>0</td>\n",
       "      <td>2021-06-02 15:30:00</td>\n",
       "      <td>2021-06-02 15:33:00</td>\n",
       "      <td>4e9a759b-afec-4aa7-91fc-868aebfed149</td>\n",
       "      <td>NaN</td>\n",
       "      <td>6</td>\n",
       "      <td>1</td>\n",
       "    </tr>\n",
       "    <tr>\n",
       "      <th>...</th>\n",
       "      <td>...</td>\n",
       "      <td>...</td>\n",
       "      <td>...</td>\n",
       "      <td>...</td>\n",
       "      <td>...</td>\n",
       "      <td>...</td>\n",
       "      <td>...</td>\n",
       "      <td>...</td>\n",
       "      <td>...</td>\n",
       "    </tr>\n",
       "    <tr>\n",
       "      <th>723</th>\n",
       "      <td>eeb8415a-8c98-4f91-899a-34baaf807f09</td>\n",
       "      <td>Humoral immune responses in the artery wall.</td>\n",
       "      <td>3</td>\n",
       "      <td>2021-06-01 11:03:00</td>\n",
       "      <td>2021-06-01 11:18:00</td>\n",
       "      <td>7c7342fa-fd91-4f1f-acc8-81c33c43fc7f</td>\n",
       "      <td>NaN</td>\n",
       "      <td>1</td>\n",
       "      <td>2</td>\n",
       "    </tr>\n",
       "    <tr>\n",
       "      <th>725</th>\n",
       "      <td>ea5ae3b6-a49a-4662-8015-9b2fec318c32</td>\n",
       "      <td>O033 - CHIP mutations mediate human atheroscle...</td>\n",
       "      <td>4</td>\n",
       "      <td>2021-06-01 11:18:00</td>\n",
       "      <td>2021-06-01 11:26:00</td>\n",
       "      <td>7c7342fa-fd91-4f1f-acc8-81c33c43fc7f</td>\n",
       "      <td>Background and Aims Clonal hematopoiesis of in...</td>\n",
       "      <td>1</td>\n",
       "      <td>2</td>\n",
       "    </tr>\n",
       "    <tr>\n",
       "      <th>727</th>\n",
       "      <td>8273e9a5-bc89-4af4-8f16-e178ef6842cf</td>\n",
       "      <td>O034 - Deficiency of myeloid phd proteins aggr...</td>\n",
       "      <td>5</td>\n",
       "      <td>2021-06-01 11:26:00</td>\n",
       "      <td>2021-06-01 11:34:00</td>\n",
       "      <td>7c7342fa-fd91-4f1f-acc8-81c33c43fc7f</td>\n",
       "      <td>Background and Aims Atherosclerotic plaque hyp...</td>\n",
       "      <td>1</td>\n",
       "      <td>2</td>\n",
       "    </tr>\n",
       "    <tr>\n",
       "      <th>729</th>\n",
       "      <td>17825191-8280-4f86-82b7-58028868f568</td>\n",
       "      <td>O035 - Phosphorylcholine-targeting vaccination...</td>\n",
       "      <td>6</td>\n",
       "      <td>2021-06-01 11:34:00</td>\n",
       "      <td>2021-06-01 11:42:00</td>\n",
       "      <td>7c7342fa-fd91-4f1f-acc8-81c33c43fc7f</td>\n",
       "      <td>Background and Aims Vaccination with phosphory...</td>\n",
       "      <td>1</td>\n",
       "      <td>2</td>\n",
       "    </tr>\n",
       "    <tr>\n",
       "      <th>731</th>\n",
       "      <td>0b3662f9-337c-4cb2-911a-cffd285ab66d</td>\n",
       "      <td>Q&amp;A</td>\n",
       "      <td>7</td>\n",
       "      <td>2021-06-01 11:42:00</td>\n",
       "      <td>2021-06-01 11:57:00</td>\n",
       "      <td>7c7342fa-fd91-4f1f-acc8-81c33c43fc7f</td>\n",
       "      <td>NaN</td>\n",
       "      <td>1</td>\n",
       "      <td>2</td>\n",
       "    </tr>\n",
       "  </tbody>\n",
       "</table>\n",
       "<p>274 rows × 9 columns</p>\n",
       "</div>"
      ],
      "text/plain": [
       "                                       id  \\\n",
       "3    40f9964b-4a75-4f75-8995-d86cb903a36b   \n",
       "6    09ca1ebc-c203-476f-b93c-51722ada74da   \n",
       "8    43cc35bd-828c-472c-8b84-6b58576a0e95   \n",
       "10   4d36916e-21d5-4fb8-bdc0-f6d13b209fe6   \n",
       "16   4bdf4321-d97a-463b-975c-01b4bdd600b7   \n",
       "..                                    ...   \n",
       "723  eeb8415a-8c98-4f91-899a-34baaf807f09   \n",
       "725  ea5ae3b6-a49a-4662-8015-9b2fec318c32   \n",
       "727  8273e9a5-bc89-4af4-8f16-e178ef6842cf   \n",
       "729  17825191-8280-4f86-82b7-58028868f568   \n",
       "731  0b3662f9-337c-4cb2-911a-cffd285ab66d   \n",
       "\n",
       "                                                 title  order  \\\n",
       "3                                         Introduction      0   \n",
       "6    Is gut microbiota a risk factor for cardiovasc...      1   \n",
       "8    The Impact of Diet on Gut Microbiota in Health...      2   \n",
       "10                                          Conclusion      3   \n",
       "16                                        Introduction      0   \n",
       "..                                                 ...    ...   \n",
       "723       Humoral immune responses in the artery wall.      3   \n",
       "725  O033 - CHIP mutations mediate human atheroscle...      4   \n",
       "727  O034 - Deficiency of myeloid phd proteins aggr...      5   \n",
       "729  O035 - Phosphorylcholine-targeting vaccination...      6   \n",
       "731                                                Q&A      7   \n",
       "\n",
       "             start_time            end_time  \\\n",
       "3   2021-05-31 16:00:00 2021-05-31 16:03:00   \n",
       "6   2021-05-31 16:03:00 2021-05-31 16:18:00   \n",
       "8   2021-05-31 16:18:00 2021-05-31 16:33:00   \n",
       "10  2021-05-31 16:33:00 2021-05-31 16:36:00   \n",
       "16  2021-06-02 15:30:00 2021-06-02 15:33:00   \n",
       "..                  ...                 ...   \n",
       "723 2021-06-01 11:03:00 2021-06-01 11:18:00   \n",
       "725 2021-06-01 11:18:00 2021-06-01 11:26:00   \n",
       "727 2021-06-01 11:26:00 2021-06-01 11:34:00   \n",
       "729 2021-06-01 11:34:00 2021-06-01 11:42:00   \n",
       "731 2021-06-01 11:42:00 2021-06-01 11:57:00   \n",
       "\n",
       "                               session_id  \\\n",
       "3    55726fce-937f-4c60-bd10-d3159e157adf   \n",
       "6    55726fce-937f-4c60-bd10-d3159e157adf   \n",
       "8    55726fce-937f-4c60-bd10-d3159e157adf   \n",
       "10   55726fce-937f-4c60-bd10-d3159e157adf   \n",
       "16   4e9a759b-afec-4aa7-91fc-868aebfed149   \n",
       "..                                    ...   \n",
       "723  7c7342fa-fd91-4f1f-acc8-81c33c43fc7f   \n",
       "725  7c7342fa-fd91-4f1f-acc8-81c33c43fc7f   \n",
       "727  7c7342fa-fd91-4f1f-acc8-81c33c43fc7f   \n",
       "729  7c7342fa-fd91-4f1f-acc8-81c33c43fc7f   \n",
       "731  7c7342fa-fd91-4f1f-acc8-81c33c43fc7f   \n",
       "\n",
       "                                           description  session_order  \\\n",
       "3                                                  NaN              0   \n",
       "6                                                  NaN              0   \n",
       "8                                                  NaN              0   \n",
       "10                                                 NaN              0   \n",
       "16                                                 NaN              6   \n",
       "..                                                 ...            ...   \n",
       "723                                                NaN              1   \n",
       "725  Background and Aims Clonal hematopoiesis of in...              1   \n",
       "727  Background and Aims Atherosclerotic plaque hyp...              1   \n",
       "729  Background and Aims Vaccination with phosphory...              1   \n",
       "731                                                NaN              1   \n",
       "\n",
       "     session_range  \n",
       "3                1  \n",
       "6                1  \n",
       "8                1  \n",
       "10               1  \n",
       "16               1  \n",
       "..             ...  \n",
       "723              2  \n",
       "725              2  \n",
       "727              2  \n",
       "729              2  \n",
       "731              2  \n",
       "\n",
       "[274 rows x 9 columns]"
      ]
     },
     "execution_count": 148,
     "metadata": {},
     "output_type": "execute_result"
    }
   ],
   "source": [
    "presentationsdf"
   ]
  },
  {
   "cell_type": "code",
   "execution_count": 149,
   "metadata": {},
   "outputs": [],
   "source": [
    "presentationsdf[\"rangeorder\"] = presentationsdf[\n",
    "    \"session_range\"]*10000 + presentationsdf[\"session_order\"]*100 + presentationsdf[\"order\"]\n",
    "presentationsdf[\"rangeorder\"] = presentationsdf[\"rangeorder\"].apply(int)\n",
    "presentationsdf.drop(columns=[\"session_range\", \"session_order\", \"order\"], inplace=True)"
   ]
  },
  {
   "cell_type": "code",
   "execution_count": 150,
   "metadata": {},
   "outputs": [],
   "source": [
    "presentationsdf.sort_values(by=\"rangeorder\", inplace=True)"
   ]
  },
  {
   "cell_type": "code",
   "execution_count": 151,
   "metadata": {},
   "outputs": [],
   "source": [
    "presentationsdf.reset_index(inplace=True, drop=True)\n",
    "presentationsdf[\"order\"] = presentationsdf.index + 1\n",
    "presentationsdf.drop(columns=[\"rangeorder\"], inplace=True)"
   ]
  },
  {
   "cell_type": "code",
   "execution_count": 152,
   "metadata": {},
   "outputs": [],
   "source": [
    "presentationsdf[\"description\"] = presentationsdf[\"description\"].apply(\n",
    "    lambda x: np.nan if pd.isnull(x) else x)"
   ]
  },
  {
   "cell_type": "code",
   "execution_count": 153,
   "metadata": {},
   "outputs": [
    {
     "data": {
      "text/html": [
       "<div>\n",
       "<style scoped>\n",
       "    .dataframe tbody tr th:only-of-type {\n",
       "        vertical-align: middle;\n",
       "    }\n",
       "\n",
       "    .dataframe tbody tr th {\n",
       "        vertical-align: top;\n",
       "    }\n",
       "\n",
       "    .dataframe thead th {\n",
       "        text-align: right;\n",
       "    }\n",
       "</style>\n",
       "<table border=\"1\" class=\"dataframe\">\n",
       "  <thead>\n",
       "    <tr style=\"text-align: right;\">\n",
       "      <th></th>\n",
       "      <th>id</th>\n",
       "      <th>title</th>\n",
       "      <th>start_time</th>\n",
       "      <th>end_time</th>\n",
       "      <th>session_id</th>\n",
       "      <th>description</th>\n",
       "      <th>order</th>\n",
       "    </tr>\n",
       "  </thead>\n",
       "  <tbody>\n",
       "    <tr>\n",
       "      <th>0</th>\n",
       "      <td>40f9964b-4a75-4f75-8995-d86cb903a36b</td>\n",
       "      <td>Introduction</td>\n",
       "      <td>2021-05-31 16:00:00</td>\n",
       "      <td>2021-05-31 16:03:00</td>\n",
       "      <td>55726fce-937f-4c60-bd10-d3159e157adf</td>\n",
       "      <td>NaN</td>\n",
       "      <td>1</td>\n",
       "    </tr>\n",
       "    <tr>\n",
       "      <th>1</th>\n",
       "      <td>09ca1ebc-c203-476f-b93c-51722ada74da</td>\n",
       "      <td>Is gut microbiota a risk factor for cardiovasc...</td>\n",
       "      <td>2021-05-31 16:03:00</td>\n",
       "      <td>2021-05-31 16:18:00</td>\n",
       "      <td>55726fce-937f-4c60-bd10-d3159e157adf</td>\n",
       "      <td>NaN</td>\n",
       "      <td>2</td>\n",
       "    </tr>\n",
       "    <tr>\n",
       "      <th>2</th>\n",
       "      <td>43cc35bd-828c-472c-8b84-6b58576a0e95</td>\n",
       "      <td>The Impact of Diet on Gut Microbiota in Health...</td>\n",
       "      <td>2021-05-31 16:18:00</td>\n",
       "      <td>2021-05-31 16:33:00</td>\n",
       "      <td>55726fce-937f-4c60-bd10-d3159e157adf</td>\n",
       "      <td>NaN</td>\n",
       "      <td>3</td>\n",
       "    </tr>\n",
       "    <tr>\n",
       "      <th>3</th>\n",
       "      <td>4d36916e-21d5-4fb8-bdc0-f6d13b209fe6</td>\n",
       "      <td>Conclusion</td>\n",
       "      <td>2021-05-31 16:33:00</td>\n",
       "      <td>2021-05-31 16:36:00</td>\n",
       "      <td>55726fce-937f-4c60-bd10-d3159e157adf</td>\n",
       "      <td>NaN</td>\n",
       "      <td>4</td>\n",
       "    </tr>\n",
       "    <tr>\n",
       "      <th>4</th>\n",
       "      <td>67ee8ad0-ffbe-4e97-97cc-74226800c63f</td>\n",
       "      <td>Introduction</td>\n",
       "      <td>2021-06-01 14:30:00</td>\n",
       "      <td>2021-06-01 14:33:00</td>\n",
       "      <td>5d133764-cf6b-49ee-8c7c-3d2adb183e49</td>\n",
       "      <td>NaN</td>\n",
       "      <td>5</td>\n",
       "    </tr>\n",
       "  </tbody>\n",
       "</table>\n",
       "</div>"
      ],
      "text/plain": [
       "                                     id  \\\n",
       "0  40f9964b-4a75-4f75-8995-d86cb903a36b   \n",
       "1  09ca1ebc-c203-476f-b93c-51722ada74da   \n",
       "2  43cc35bd-828c-472c-8b84-6b58576a0e95   \n",
       "3  4d36916e-21d5-4fb8-bdc0-f6d13b209fe6   \n",
       "4  67ee8ad0-ffbe-4e97-97cc-74226800c63f   \n",
       "\n",
       "                                               title          start_time  \\\n",
       "0                                       Introduction 2021-05-31 16:00:00   \n",
       "1  Is gut microbiota a risk factor for cardiovasc... 2021-05-31 16:03:00   \n",
       "2  The Impact of Diet on Gut Microbiota in Health... 2021-05-31 16:18:00   \n",
       "3                                         Conclusion 2021-05-31 16:33:00   \n",
       "4                                       Introduction 2021-06-01 14:30:00   \n",
       "\n",
       "             end_time                            session_id description  order  \n",
       "0 2021-05-31 16:03:00  55726fce-937f-4c60-bd10-d3159e157adf         NaN      1  \n",
       "1 2021-05-31 16:18:00  55726fce-937f-4c60-bd10-d3159e157adf         NaN      2  \n",
       "2 2021-05-31 16:33:00  55726fce-937f-4c60-bd10-d3159e157adf         NaN      3  \n",
       "3 2021-05-31 16:36:00  55726fce-937f-4c60-bd10-d3159e157adf         NaN      4  \n",
       "4 2021-06-01 14:33:00  5d133764-cf6b-49ee-8c7c-3d2adb183e49         NaN      5  "
      ]
     },
     "execution_count": 153,
     "metadata": {},
     "output_type": "execute_result"
    }
   ],
   "source": [
    "presentationsdf.head()"
   ]
  },
  {
   "cell_type": "code",
   "execution_count": 154,
   "metadata": {},
   "outputs": [
    {
     "data": {
      "text/plain": [
       "array(['2d7be553-c3d5-48ec-b65f-58610748bf9c'], dtype=object)"
      ]
     },
     "execution_count": 154,
     "metadata": {},
     "output_type": "execute_result"
    }
   ],
   "source": [
    "sessionsdf[\"event_id\"].unique()"
   ]
  },
  {
   "cell_type": "code",
   "execution_count": 155,
   "metadata": {},
   "outputs": [
    {
     "data": {
      "text/plain": [
       "[]"
      ]
     },
     "execution_count": 155,
     "metadata": {},
     "output_type": "execute_result"
    }
   ],
   "source": [
    "[item for item in presentationsdf.session_id if item not in list(sessionsdf.id)]"
   ]
  },
  {
   "cell_type": "code",
   "execution_count": 156,
   "metadata": {},
   "outputs": [],
   "source": [
    "with jsonlines.open('../output/structured/Presentation.jsonl', mode='w') as writer:\n",
    "    presentationsdf[\"start_time\"] = presentationsdf[\"start_time\"].dt.strftime(\"%Y-%m-%dT%H:%M:%S.%f\")\n",
    "    presentationsdf[\"end_time\"] = presentationsdf[\"end_time\"].dt.strftime(\"%Y-%m-%dT%H:%M:%S.%f\")\n",
    "    writer.write_all(presentationsdf.T.apply(lambda x: x.dropna().to_dict()).tolist())"
   ]
  },
  {
   "cell_type": "markdown",
   "metadata": {},
   "source": [
    "## Persons"
   ]
  },
  {
   "cell_type": "code",
   "execution_count": 157,
   "metadata": {},
   "outputs": [
    {
     "data": {
      "text/plain": [
       "array(['session', 'session_person', 'presentation', 'presentation_person'],\n",
       "      dtype=object)"
      ]
     },
     "execution_count": 157,
     "metadata": {},
     "output_type": "execute_result"
    }
   ],
   "source": [
    "all_sessions_raw[\"class\"].unique()"
   ]
  },
  {
   "cell_type": "code",
   "execution_count": null,
   "metadata": {},
   "outputs": [],
   "source": []
  },
  {
   "cell_type": "code",
   "execution_count": 158,
   "metadata": {},
   "outputs": [],
   "source": [
    "personsdf = all_sessions_raw[all_sessions_raw[\"class\"].isin(['session_person', 'presentation_person'])][[\n",
    "    \"event_id\", \"full_name\", \"first_name\", \"last_name\", \"second_name\", \"country\", \"title\"\n",
    "]]"
   ]
  },
  {
   "cell_type": "code",
   "execution_count": 159,
   "metadata": {},
   "outputs": [
    {
     "data": {
      "text/html": [
       "<div>\n",
       "<style scoped>\n",
       "    .dataframe tbody tr th:only-of-type {\n",
       "        vertical-align: middle;\n",
       "    }\n",
       "\n",
       "    .dataframe tbody tr th {\n",
       "        vertical-align: top;\n",
       "    }\n",
       "\n",
       "    .dataframe thead th {\n",
       "        text-align: right;\n",
       "    }\n",
       "</style>\n",
       "<table border=\"1\" class=\"dataframe\">\n",
       "  <thead>\n",
       "    <tr style=\"text-align: right;\">\n",
       "      <th></th>\n",
       "      <th>event_id</th>\n",
       "      <th>full_name</th>\n",
       "      <th>first_name</th>\n",
       "      <th>last_name</th>\n",
       "      <th>second_name</th>\n",
       "      <th>country</th>\n",
       "      <th>title</th>\n",
       "    </tr>\n",
       "  </thead>\n",
       "  <tbody>\n",
       "    <tr>\n",
       "      <th>1</th>\n",
       "      <td>2d7be553-c3d5-48ec-b65f-58610748bf9c</td>\n",
       "      <td>Christoph Reinhardt</td>\n",
       "      <td>Christoph</td>\n",
       "      <td>Reinhardt</td>\n",
       "      <td></td>\n",
       "      <td>Germany</td>\n",
       "      <td></td>\n",
       "    </tr>\n",
       "    <tr>\n",
       "      <th>2</th>\n",
       "      <td>2d7be553-c3d5-48ec-b65f-58610748bf9c</td>\n",
       "      <td>Patrick C. Rensen</td>\n",
       "      <td>Patrick</td>\n",
       "      <td>Rensen</td>\n",
       "      <td>C.</td>\n",
       "      <td>Netherlands</td>\n",
       "      <td></td>\n",
       "    </tr>\n",
       "    <tr>\n",
       "      <th>4</th>\n",
       "      <td>2d7be553-c3d5-48ec-b65f-58610748bf9c</td>\n",
       "      <td>Christoph Reinhardt</td>\n",
       "      <td>Christoph</td>\n",
       "      <td>Reinhardt</td>\n",
       "      <td></td>\n",
       "      <td>Germany</td>\n",
       "      <td></td>\n",
       "    </tr>\n",
       "    <tr>\n",
       "      <th>5</th>\n",
       "      <td>2d7be553-c3d5-48ec-b65f-58610748bf9c</td>\n",
       "      <td>Patrick C. Rensen</td>\n",
       "      <td>Patrick</td>\n",
       "      <td>Rensen</td>\n",
       "      <td>C.</td>\n",
       "      <td>Netherlands</td>\n",
       "      <td></td>\n",
       "    </tr>\n",
       "    <tr>\n",
       "      <th>7</th>\n",
       "      <td>2d7be553-c3d5-48ec-b65f-58610748bf9c</td>\n",
       "      <td>Christoph Reinhardt</td>\n",
       "      <td>Christoph</td>\n",
       "      <td>Reinhardt</td>\n",
       "      <td></td>\n",
       "      <td>Germany</td>\n",
       "      <td></td>\n",
       "    </tr>\n",
       "  </tbody>\n",
       "</table>\n",
       "</div>"
      ],
      "text/plain": [
       "                               event_id            full_name first_name  \\\n",
       "1  2d7be553-c3d5-48ec-b65f-58610748bf9c  Christoph Reinhardt  Christoph   \n",
       "2  2d7be553-c3d5-48ec-b65f-58610748bf9c    Patrick C. Rensen    Patrick   \n",
       "4  2d7be553-c3d5-48ec-b65f-58610748bf9c  Christoph Reinhardt  Christoph   \n",
       "5  2d7be553-c3d5-48ec-b65f-58610748bf9c    Patrick C. Rensen    Patrick   \n",
       "7  2d7be553-c3d5-48ec-b65f-58610748bf9c  Christoph Reinhardt  Christoph   \n",
       "\n",
       "   last_name second_name      country title  \n",
       "1  Reinhardt                  Germany        \n",
       "2     Rensen          C.  Netherlands        \n",
       "4  Reinhardt                  Germany        \n",
       "5     Rensen          C.  Netherlands        \n",
       "7  Reinhardt                  Germany        "
      ]
     },
     "execution_count": 159,
     "metadata": {},
     "output_type": "execute_result"
    }
   ],
   "source": [
    "personsdf.head()"
   ]
  },
  {
   "cell_type": "code",
   "execution_count": 160,
   "metadata": {},
   "outputs": [],
   "source": [
    "# add non referenced sessions\n",
    "personsdf = personsdf.append(pd.DataFrame([{\n",
    "    \"event_id\": event_id, \"fullname\": \"Kausik K. Ray\",\n",
    "    \"first_name\": \"Kausik\",\n",
    "    \"last_name\": \"Ray\",\n",
    "    \"second_name\": \"K.\",\n",
    "    \"country\": \"United Kingdom\",\n",
    "    \"title\": \"\"}]))"
   ]
  },
  {
   "cell_type": "code",
   "execution_count": 161,
   "metadata": {},
   "outputs": [],
   "source": [
    "personsdf = personsdf.append(pd.DataFrame([{\n",
    "    \"event_id\": event_id, \"fullname\": \"Alberico L. Catapano\",\n",
    "    \"first_name\": \"Alberico\",\n",
    "    \"last_name\": \"Catapano\",\n",
    "    \"second_name\": \"L.\",\n",
    "    \"country\": \"Italy\",\n",
    "    \"title\": \"\"}]))"
   ]
  },
  {
   "cell_type": "code",
   "execution_count": 162,
   "metadata": {},
   "outputs": [
    {
     "data": {
      "text/plain": [
       "415"
      ]
     },
     "execution_count": 162,
     "metadata": {},
     "output_type": "execute_result"
    }
   ],
   "source": [
    "len(personsdf)"
   ]
  },
  {
   "cell_type": "code",
   "execution_count": 163,
   "metadata": {},
   "outputs": [],
   "source": [
    "personsdf = personsdf.drop_duplicates(subset=\"full_name\", keep='first')"
   ]
  },
  {
   "cell_type": "code",
   "execution_count": 164,
   "metadata": {},
   "outputs": [
    {
     "data": {
      "text/plain": [
       "194"
      ]
     },
     "execution_count": 164,
     "metadata": {},
     "output_type": "execute_result"
    }
   ],
   "source": [
    "len(personsdf)"
   ]
  },
  {
   "cell_type": "code",
   "execution_count": 165,
   "metadata": {},
   "outputs": [],
   "source": [
    "personsdf[\"id\"] = [str(uuid.uuid4()) for i in range(len(personsdf))]"
   ]
  },
  {
   "cell_type": "code",
   "execution_count": 166,
   "metadata": {},
   "outputs": [
    {
     "data": {
      "text/html": [
       "<div>\n",
       "<style scoped>\n",
       "    .dataframe tbody tr th:only-of-type {\n",
       "        vertical-align: middle;\n",
       "    }\n",
       "\n",
       "    .dataframe tbody tr th {\n",
       "        vertical-align: top;\n",
       "    }\n",
       "\n",
       "    .dataframe thead th {\n",
       "        text-align: right;\n",
       "    }\n",
       "</style>\n",
       "<table border=\"1\" class=\"dataframe\">\n",
       "  <thead>\n",
       "    <tr style=\"text-align: right;\">\n",
       "      <th></th>\n",
       "      <th>event_id</th>\n",
       "      <th>full_name</th>\n",
       "      <th>first_name</th>\n",
       "      <th>last_name</th>\n",
       "      <th>second_name</th>\n",
       "      <th>country</th>\n",
       "      <th>title</th>\n",
       "      <th>fullname</th>\n",
       "      <th>id</th>\n",
       "    </tr>\n",
       "  </thead>\n",
       "  <tbody>\n",
       "    <tr>\n",
       "      <th>1</th>\n",
       "      <td>2d7be553-c3d5-48ec-b65f-58610748bf9c</td>\n",
       "      <td>Christoph Reinhardt</td>\n",
       "      <td>Christoph</td>\n",
       "      <td>Reinhardt</td>\n",
       "      <td></td>\n",
       "      <td>Germany</td>\n",
       "      <td></td>\n",
       "      <td>NaN</td>\n",
       "      <td>f8a33d6f-9250-460a-85de-0ecc5b9ca419</td>\n",
       "    </tr>\n",
       "    <tr>\n",
       "      <th>2</th>\n",
       "      <td>2d7be553-c3d5-48ec-b65f-58610748bf9c</td>\n",
       "      <td>Patrick C. Rensen</td>\n",
       "      <td>Patrick</td>\n",
       "      <td>Rensen</td>\n",
       "      <td>C.</td>\n",
       "      <td>Netherlands</td>\n",
       "      <td></td>\n",
       "      <td>NaN</td>\n",
       "      <td>b43b35bc-5692-4fd4-9ae0-0ffbc3bb9df9</td>\n",
       "    </tr>\n",
       "    <tr>\n",
       "      <th>9</th>\n",
       "      <td>2d7be553-c3d5-48ec-b65f-58610748bf9c</td>\n",
       "      <td>Wendy Garrett</td>\n",
       "      <td>Wendy</td>\n",
       "      <td>Garrett</td>\n",
       "      <td></td>\n",
       "      <td>United States of America</td>\n",
       "      <td></td>\n",
       "      <td>NaN</td>\n",
       "      <td>05ade436-ae4f-423c-8668-fa2743ae8f51</td>\n",
       "    </tr>\n",
       "    <tr>\n",
       "      <th>14</th>\n",
       "      <td>2d7be553-c3d5-48ec-b65f-58610748bf9c</td>\n",
       "      <td>Maciej Banach</td>\n",
       "      <td>Maciej</td>\n",
       "      <td>Banach</td>\n",
       "      <td></td>\n",
       "      <td>Poland</td>\n",
       "      <td></td>\n",
       "      <td>NaN</td>\n",
       "      <td>0c0484ba-2734-413d-b8da-35812c80b2ca</td>\n",
       "    </tr>\n",
       "    <tr>\n",
       "      <th>15</th>\n",
       "      <td>2d7be553-c3d5-48ec-b65f-58610748bf9c</td>\n",
       "      <td>Timo Strandberg</td>\n",
       "      <td>Timo</td>\n",
       "      <td>Strandberg</td>\n",
       "      <td></td>\n",
       "      <td>Finland</td>\n",
       "      <td></td>\n",
       "      <td>NaN</td>\n",
       "      <td>675cd928-1e4a-4c1c-b9ad-6f521f1a7a61</td>\n",
       "    </tr>\n",
       "  </tbody>\n",
       "</table>\n",
       "</div>"
      ],
      "text/plain": [
       "                                event_id            full_name first_name  \\\n",
       "1   2d7be553-c3d5-48ec-b65f-58610748bf9c  Christoph Reinhardt  Christoph   \n",
       "2   2d7be553-c3d5-48ec-b65f-58610748bf9c    Patrick C. Rensen    Patrick   \n",
       "9   2d7be553-c3d5-48ec-b65f-58610748bf9c        Wendy Garrett      Wendy   \n",
       "14  2d7be553-c3d5-48ec-b65f-58610748bf9c        Maciej Banach     Maciej   \n",
       "15  2d7be553-c3d5-48ec-b65f-58610748bf9c      Timo Strandberg       Timo   \n",
       "\n",
       "     last_name second_name                   country title fullname  \\\n",
       "1    Reinhardt                               Germany            NaN   \n",
       "2       Rensen          C.               Netherlands            NaN   \n",
       "9      Garrett              United States of America            NaN   \n",
       "14      Banach                                Poland            NaN   \n",
       "15  Strandberg                               Finland            NaN   \n",
       "\n",
       "                                      id  \n",
       "1   f8a33d6f-9250-460a-85de-0ecc5b9ca419  \n",
       "2   b43b35bc-5692-4fd4-9ae0-0ffbc3bb9df9  \n",
       "9   05ade436-ae4f-423c-8668-fa2743ae8f51  \n",
       "14  0c0484ba-2734-413d-b8da-35812c80b2ca  \n",
       "15  675cd928-1e4a-4c1c-b9ad-6f521f1a7a61  "
      ]
     },
     "execution_count": 166,
     "metadata": {},
     "output_type": "execute_result"
    }
   ],
   "source": [
    "personsdf.head()"
   ]
  },
  {
   "cell_type": "code",
   "execution_count": 167,
   "metadata": {},
   "outputs": [
    {
     "data": {
      "text/plain": [
       "'2d7be553-c3d5-48ec-b65f-58610748bf9c'"
      ]
     },
     "execution_count": 167,
     "metadata": {},
     "output_type": "execute_result"
    }
   ],
   "source": [
    "personsdf[\"event_id\"].unique()[0]"
   ]
  },
  {
   "cell_type": "code",
   "execution_count": 168,
   "metadata": {},
   "outputs": [
    {
     "data": {
      "text/html": [
       "<div>\n",
       "<style scoped>\n",
       "    .dataframe tbody tr th:only-of-type {\n",
       "        vertical-align: middle;\n",
       "    }\n",
       "\n",
       "    .dataframe tbody tr th {\n",
       "        vertical-align: top;\n",
       "    }\n",
       "\n",
       "    .dataframe thead th {\n",
       "        text-align: right;\n",
       "    }\n",
       "</style>\n",
       "<table border=\"1\" class=\"dataframe\">\n",
       "  <thead>\n",
       "    <tr style=\"text-align: right;\">\n",
       "      <th></th>\n",
       "      <th>event_id</th>\n",
       "      <th>full_name</th>\n",
       "      <th>first_name</th>\n",
       "      <th>last_name</th>\n",
       "      <th>second_name</th>\n",
       "      <th>country</th>\n",
       "      <th>title</th>\n",
       "      <th>fullname</th>\n",
       "      <th>id</th>\n",
       "    </tr>\n",
       "  </thead>\n",
       "  <tbody>\n",
       "    <tr>\n",
       "      <th>245</th>\n",
       "      <td>2d7be553-c3d5-48ec-b65f-58610748bf9c</td>\n",
       "      <td>Kausik K. Ray</td>\n",
       "      <td>Kausik</td>\n",
       "      <td>Ray</td>\n",
       "      <td>K.</td>\n",
       "      <td>United Kingdom</td>\n",
       "      <td></td>\n",
       "      <td>NaN</td>\n",
       "      <td>fa2223a3-80e1-45d8-a9a9-367bb4a891f8</td>\n",
       "    </tr>\n",
       "  </tbody>\n",
       "</table>\n",
       "</div>"
      ],
      "text/plain": [
       "                                 event_id      full_name first_name last_name  \\\n",
       "245  2d7be553-c3d5-48ec-b65f-58610748bf9c  Kausik K. Ray     Kausik       Ray   \n",
       "\n",
       "    second_name         country title fullname  \\\n",
       "245          K.  United Kingdom            NaN   \n",
       "\n",
       "                                       id  \n",
       "245  fa2223a3-80e1-45d8-a9a9-367bb4a891f8  "
      ]
     },
     "execution_count": 168,
     "metadata": {},
     "output_type": "execute_result"
    }
   ],
   "source": [
    "personsdf[personsdf[\"full_name\"]==\"Kausik K. Ray\"]"
   ]
  },
  {
   "cell_type": "code",
   "execution_count": 169,
   "metadata": {},
   "outputs": [
    {
     "data": {
      "text/html": [
       "<div>\n",
       "<style scoped>\n",
       "    .dataframe tbody tr th:only-of-type {\n",
       "        vertical-align: middle;\n",
       "    }\n",
       "\n",
       "    .dataframe tbody tr th {\n",
       "        vertical-align: top;\n",
       "    }\n",
       "\n",
       "    .dataframe thead th {\n",
       "        text-align: right;\n",
       "    }\n",
       "</style>\n",
       "<table border=\"1\" class=\"dataframe\">\n",
       "  <thead>\n",
       "    <tr style=\"text-align: right;\">\n",
       "      <th></th>\n",
       "      <th>event_id</th>\n",
       "      <th>full_name</th>\n",
       "      <th>first_name</th>\n",
       "      <th>last_name</th>\n",
       "      <th>second_name</th>\n",
       "      <th>country</th>\n",
       "      <th>title</th>\n",
       "      <th>fullname</th>\n",
       "      <th>id</th>\n",
       "    </tr>\n",
       "  </thead>\n",
       "  <tbody>\n",
       "    <tr>\n",
       "      <th>202</th>\n",
       "      <td>2d7be553-c3d5-48ec-b65f-58610748bf9c</td>\n",
       "      <td>Alberico L. Catapano</td>\n",
       "      <td>Alberico</td>\n",
       "      <td>Catapano</td>\n",
       "      <td>L.</td>\n",
       "      <td>Italy</td>\n",
       "      <td></td>\n",
       "      <td>NaN</td>\n",
       "      <td>350ae66f-7e86-43f4-b870-8f6d264e3fe5</td>\n",
       "    </tr>\n",
       "  </tbody>\n",
       "</table>\n",
       "</div>"
      ],
      "text/plain": [
       "                                 event_id             full_name first_name  \\\n",
       "202  2d7be553-c3d5-48ec-b65f-58610748bf9c  Alberico L. Catapano   Alberico   \n",
       "\n",
       "    last_name second_name country title fullname  \\\n",
       "202  Catapano          L.   Italy            NaN   \n",
       "\n",
       "                                       id  \n",
       "202  350ae66f-7e86-43f4-b870-8f6d264e3fe5  "
      ]
     },
     "execution_count": 169,
     "metadata": {},
     "output_type": "execute_result"
    }
   ],
   "source": [
    "personsdf[personsdf[\"full_name\"]==\"Alberico L. Catapano\"]"
   ]
  },
  {
   "cell_type": "code",
   "execution_count": 170,
   "metadata": {},
   "outputs": [],
   "source": [
    "personssavedf = personsdf.drop(columns=[\"full_name\"])"
   ]
  },
  {
   "cell_type": "code",
   "execution_count": 171,
   "metadata": {},
   "outputs": [],
   "source": [
    "with jsonlines.open('../output/structured/Person.jsonl', mode='w') as writer:\n",
    "    writer.write_all(personssavedf.T.apply(lambda x: x.dropna().to_dict()).tolist())"
   ]
  },
  {
   "cell_type": "markdown",
   "metadata": {},
   "source": [
    "## SessionPerson and PresentationPerson"
   ]
  },
  {
   "cell_type": "code",
   "execution_count": 174,
   "metadata": {},
   "outputs": [
    {
     "data": {
      "text/plain": [
       "array(['session', 'session_person', 'presentation', 'presentation_person'],\n",
       "      dtype=object)"
      ]
     },
     "execution_count": 174,
     "metadata": {},
     "output_type": "execute_result"
    }
   ],
   "source": [
    "all_sessions_raw[\"class\"].unique()"
   ]
  },
  {
   "cell_type": "code",
   "execution_count": 175,
   "metadata": {},
   "outputs": [],
   "source": [
    "sessionpersonsdf = all_sessions_raw[all_sessions_raw[\"class\"]==\"session_person\"][[\n",
    "    \"full_name\", \"role\", \"content_id\"]]"
   ]
  },
  {
   "cell_type": "code",
   "execution_count": 177,
   "metadata": {},
   "outputs": [
    {
     "data": {
      "text/plain": [
       "75"
      ]
     },
     "execution_count": 177,
     "metadata": {},
     "output_type": "execute_result"
    }
   ],
   "source": [
    "len(sessionpersonsdf)"
   ]
  },
  {
   "cell_type": "code",
   "execution_count": 176,
   "metadata": {
    "scrolled": true
   },
   "outputs": [
    {
     "data": {
      "text/plain": [
       "[]"
      ]
     },
     "execution_count": 176,
     "metadata": {},
     "output_type": "execute_result"
    }
   ],
   "source": [
    "[item for item in sessionpersonsdf.content_id if item not in list(sessionsdf.id)]"
   ]
  },
  {
   "cell_type": "code",
   "execution_count": 178,
   "metadata": {},
   "outputs": [],
   "source": [
    "sessionpersonsdf.rename(columns={\"content_id\": \"session_id\"}, inplace=True)"
   ]
  },
  {
   "cell_type": "code",
   "execution_count": 118,
   "metadata": {},
   "outputs": [],
   "source": [
    "#all_sessions_raw[\"session_id\"] = all_sessions_raw[\"session_id\"].apply(\n",
    "#    lambda x: first_duplicated_sessions_id if x in list_duplicated_sessions_id else x)"
   ]
  },
  {
   "cell_type": "code",
   "execution_count": 179,
   "metadata": {},
   "outputs": [],
   "source": [
    "sessionpersonsdf = sessionpersonsdf.merge(personsdf[[\"full_name\", \"id\"]], on=\"full_name\").rename(\n",
    "    columns={\"id\": \"person_id\"})"
   ]
  },
  {
   "cell_type": "code",
   "execution_count": 180,
   "metadata": {},
   "outputs": [],
   "source": [
    "sessionpersonsdf.drop(columns=[\"full_name\"], inplace=True)"
   ]
  },
  {
   "cell_type": "code",
   "execution_count": 181,
   "metadata": {},
   "outputs": [
    {
     "data": {
      "text/html": [
       "<div>\n",
       "<style scoped>\n",
       "    .dataframe tbody tr th:only-of-type {\n",
       "        vertical-align: middle;\n",
       "    }\n",
       "\n",
       "    .dataframe tbody tr th {\n",
       "        vertical-align: top;\n",
       "    }\n",
       "\n",
       "    .dataframe thead th {\n",
       "        text-align: right;\n",
       "    }\n",
       "</style>\n",
       "<table border=\"1\" class=\"dataframe\">\n",
       "  <thead>\n",
       "    <tr style=\"text-align: right;\">\n",
       "      <th></th>\n",
       "      <th>role</th>\n",
       "      <th>session_id</th>\n",
       "      <th>person_id</th>\n",
       "    </tr>\n",
       "  </thead>\n",
       "  <tbody>\n",
       "    <tr>\n",
       "      <th>0</th>\n",
       "      <td>chairperson</td>\n",
       "      <td>55726fce-937f-4c60-bd10-d3159e157adf</td>\n",
       "      <td>f8a33d6f-9250-460a-85de-0ecc5b9ca419</td>\n",
       "    </tr>\n",
       "    <tr>\n",
       "      <th>1</th>\n",
       "      <td>chairperson</td>\n",
       "      <td>55726fce-937f-4c60-bd10-d3159e157adf</td>\n",
       "      <td>b43b35bc-5692-4fd4-9ae0-0ffbc3bb9df9</td>\n",
       "    </tr>\n",
       "    <tr>\n",
       "      <th>2</th>\n",
       "      <td>chairperson</td>\n",
       "      <td>4e9a759b-afec-4aa7-91fc-868aebfed149</td>\n",
       "      <td>0c0484ba-2734-413d-b8da-35812c80b2ca</td>\n",
       "    </tr>\n",
       "    <tr>\n",
       "      <th>3</th>\n",
       "      <td>chairperson</td>\n",
       "      <td>4e9a759b-afec-4aa7-91fc-868aebfed149</td>\n",
       "      <td>675cd928-1e4a-4c1c-b9ad-6f521f1a7a61</td>\n",
       "    </tr>\n",
       "    <tr>\n",
       "      <th>4</th>\n",
       "      <td>chairperson</td>\n",
       "      <td>75deba0f-39fe-45f0-9716-7f796c01b882</td>\n",
       "      <td>c2e13a0a-0896-4a6b-9732-9aef46483924</td>\n",
       "    </tr>\n",
       "  </tbody>\n",
       "</table>\n",
       "</div>"
      ],
      "text/plain": [
       "          role                            session_id  \\\n",
       "0  chairperson  55726fce-937f-4c60-bd10-d3159e157adf   \n",
       "1  chairperson  55726fce-937f-4c60-bd10-d3159e157adf   \n",
       "2  chairperson  4e9a759b-afec-4aa7-91fc-868aebfed149   \n",
       "3  chairperson  4e9a759b-afec-4aa7-91fc-868aebfed149   \n",
       "4  chairperson  75deba0f-39fe-45f0-9716-7f796c01b882   \n",
       "\n",
       "                              person_id  \n",
       "0  f8a33d6f-9250-460a-85de-0ecc5b9ca419  \n",
       "1  b43b35bc-5692-4fd4-9ae0-0ffbc3bb9df9  \n",
       "2  0c0484ba-2734-413d-b8da-35812c80b2ca  \n",
       "3  675cd928-1e4a-4c1c-b9ad-6f521f1a7a61  \n",
       "4  c2e13a0a-0896-4a6b-9732-9aef46483924  "
      ]
     },
     "execution_count": 181,
     "metadata": {},
     "output_type": "execute_result"
    }
   ],
   "source": [
    "sessionpersonsdf.head()"
   ]
  },
  {
   "cell_type": "code",
   "execution_count": null,
   "metadata": {},
   "outputs": [],
   "source": [
    "# add chairs\n",
    "sessionpersonsdf = sessionpersonsdf.append(pd.DataFrame([{\n",
    "    \"role\": \"chairperson\",\n",
    "    \"session_id\": \"d540c69e-b4ed-42dd-ab4d-77726339a8f1\",\n",
    "    \"person_id\": \"350ae66f-7e86-43f4-b870-8f6d264e3fe5\"\n",
    "}]))"
   ]
  },
  {
   "cell_type": "code",
   "execution_count": 183,
   "metadata": {},
   "outputs": [],
   "source": [
    "# add chairs\n",
    "sessionpersonsdf = sessionpersonsdf.append(pd.DataFrame([{\n",
    "    \"role\": \"chairperson\",\n",
    "    \"session_id\": \"af35fc49-2ed2-41c0-a8d2-2681d3b65f7d\",\n",
    "    \"person_id\": \"fa2223a3-80e1-45d8-a9a9-367bb4a891f8\"\n",
    "}]))"
   ]
  },
  {
   "cell_type": "code",
   "execution_count": 184,
   "metadata": {},
   "outputs": [
    {
     "data": {
      "text/html": [
       "<div>\n",
       "<style scoped>\n",
       "    .dataframe tbody tr th:only-of-type {\n",
       "        vertical-align: middle;\n",
       "    }\n",
       "\n",
       "    .dataframe tbody tr th {\n",
       "        vertical-align: top;\n",
       "    }\n",
       "\n",
       "    .dataframe thead th {\n",
       "        text-align: right;\n",
       "    }\n",
       "</style>\n",
       "<table border=\"1\" class=\"dataframe\">\n",
       "  <thead>\n",
       "    <tr style=\"text-align: right;\">\n",
       "      <th></th>\n",
       "      <th>role</th>\n",
       "      <th>session_id</th>\n",
       "      <th>person_id</th>\n",
       "    </tr>\n",
       "  </thead>\n",
       "  <tbody>\n",
       "    <tr>\n",
       "      <th>0</th>\n",
       "      <td>chairperson</td>\n",
       "      <td>d540c69e-b4ed-42dd-ab4d-77726339a8f1</td>\n",
       "      <td>350ae66f-7e86-43f4-b870-8f6d264e3fe5</td>\n",
       "    </tr>\n",
       "    <tr>\n",
       "      <th>0</th>\n",
       "      <td>chairperson</td>\n",
       "      <td>af35fc49-2ed2-41c0-a8d2-2681d3b65f7d</td>\n",
       "      <td>fa2223a3-80e1-45d8-a9a9-367bb4a891f8</td>\n",
       "    </tr>\n",
       "  </tbody>\n",
       "</table>\n",
       "</div>"
      ],
      "text/plain": [
       "          role                            session_id  \\\n",
       "0  chairperson  d540c69e-b4ed-42dd-ab4d-77726339a8f1   \n",
       "0  chairperson  af35fc49-2ed2-41c0-a8d2-2681d3b65f7d   \n",
       "\n",
       "                              person_id  \n",
       "0  350ae66f-7e86-43f4-b870-8f6d264e3fe5  \n",
       "0  fa2223a3-80e1-45d8-a9a9-367bb4a891f8  "
      ]
     },
     "execution_count": 184,
     "metadata": {},
     "output_type": "execute_result"
    }
   ],
   "source": [
    "sessionpersonsdf[-2:]"
   ]
  },
  {
   "cell_type": "code",
   "execution_count": 185,
   "metadata": {},
   "outputs": [],
   "source": [
    "with jsonlines.open('../output/structured/SessionPerson.jsonl', mode='w') as writer:\n",
    "    writer.write_all(sessionpersonsdf.T.apply(lambda x: x.dropna().to_dict()).tolist())"
   ]
  },
  {
   "cell_type": "code",
   "execution_count": 186,
   "metadata": {},
   "outputs": [
    {
     "data": {
      "text/plain": [
       "array(['session', 'session_person', 'presentation', 'presentation_person'],\n",
       "      dtype=object)"
      ]
     },
     "execution_count": 186,
     "metadata": {},
     "output_type": "execute_result"
    }
   ],
   "source": [
    "all_sessions_raw[\"class\"].unique()"
   ]
  },
  {
   "cell_type": "code",
   "execution_count": 187,
   "metadata": {},
   "outputs": [],
   "source": [
    "presentationpersonsdf = all_sessions_raw[all_sessions_raw[\"class\"]==\"presentation_person\"][[\n",
    "    \"full_name\", \"role\", \"content_id\"]]"
   ]
  },
  {
   "cell_type": "code",
   "execution_count": 188,
   "metadata": {},
   "outputs": [
    {
     "data": {
      "text/html": [
       "<div>\n",
       "<style scoped>\n",
       "    .dataframe tbody tr th:only-of-type {\n",
       "        vertical-align: middle;\n",
       "    }\n",
       "\n",
       "    .dataframe tbody tr th {\n",
       "        vertical-align: top;\n",
       "    }\n",
       "\n",
       "    .dataframe thead th {\n",
       "        text-align: right;\n",
       "    }\n",
       "</style>\n",
       "<table border=\"1\" class=\"dataframe\">\n",
       "  <thead>\n",
       "    <tr style=\"text-align: right;\">\n",
       "      <th></th>\n",
       "      <th>full_name</th>\n",
       "      <th>role</th>\n",
       "      <th>content_id</th>\n",
       "    </tr>\n",
       "  </thead>\n",
       "  <tbody>\n",
       "    <tr>\n",
       "      <th>4</th>\n",
       "      <td>Christoph Reinhardt</td>\n",
       "      <td>presenter</td>\n",
       "      <td>40f9964b-4a75-4f75-8995-d86cb903a36b</td>\n",
       "    </tr>\n",
       "    <tr>\n",
       "      <th>5</th>\n",
       "      <td>Patrick C. Rensen</td>\n",
       "      <td>presenter</td>\n",
       "      <td>40f9964b-4a75-4f75-8995-d86cb903a36b</td>\n",
       "    </tr>\n",
       "    <tr>\n",
       "      <th>7</th>\n",
       "      <td>Christoph Reinhardt</td>\n",
       "      <td>presenter</td>\n",
       "      <td>09ca1ebc-c203-476f-b93c-51722ada74da</td>\n",
       "    </tr>\n",
       "    <tr>\n",
       "      <th>9</th>\n",
       "      <td>Wendy Garrett</td>\n",
       "      <td>presenter</td>\n",
       "      <td>43cc35bd-828c-472c-8b84-6b58576a0e95</td>\n",
       "    </tr>\n",
       "    <tr>\n",
       "      <th>11</th>\n",
       "      <td>Patrick C. Rensen</td>\n",
       "      <td>presenter</td>\n",
       "      <td>4d36916e-21d5-4fb8-bdc0-f6d13b209fe6</td>\n",
       "    </tr>\n",
       "  </tbody>\n",
       "</table>\n",
       "</div>"
      ],
      "text/plain": [
       "              full_name       role                            content_id\n",
       "4   Christoph Reinhardt  presenter  40f9964b-4a75-4f75-8995-d86cb903a36b\n",
       "5     Patrick C. Rensen  presenter  40f9964b-4a75-4f75-8995-d86cb903a36b\n",
       "7   Christoph Reinhardt  presenter  09ca1ebc-c203-476f-b93c-51722ada74da\n",
       "9         Wendy Garrett  presenter  43cc35bd-828c-472c-8b84-6b58576a0e95\n",
       "11    Patrick C. Rensen  presenter  4d36916e-21d5-4fb8-bdc0-f6d13b209fe6"
      ]
     },
     "execution_count": 188,
     "metadata": {},
     "output_type": "execute_result"
    }
   ],
   "source": [
    "presentationpersonsdf.head()"
   ]
  },
  {
   "cell_type": "code",
   "execution_count": 189,
   "metadata": {},
   "outputs": [
    {
     "data": {
      "text/plain": [
       "[]"
      ]
     },
     "execution_count": 189,
     "metadata": {},
     "output_type": "execute_result"
    }
   ],
   "source": [
    "[item for item in presentationpersonsdf.content_id if item not in list(presentationsdf.id)]"
   ]
  },
  {
   "cell_type": "code",
   "execution_count": 190,
   "metadata": {},
   "outputs": [],
   "source": [
    "presentationpersonsdf.rename(columns={\"content_id\": \"presentation_id\"}, inplace=True)"
   ]
  },
  {
   "cell_type": "code",
   "execution_count": 191,
   "metadata": {},
   "outputs": [
    {
     "data": {
      "text/html": [
       "<div>\n",
       "<style scoped>\n",
       "    .dataframe tbody tr th:only-of-type {\n",
       "        vertical-align: middle;\n",
       "    }\n",
       "\n",
       "    .dataframe tbody tr th {\n",
       "        vertical-align: top;\n",
       "    }\n",
       "\n",
       "    .dataframe thead th {\n",
       "        text-align: right;\n",
       "    }\n",
       "</style>\n",
       "<table border=\"1\" class=\"dataframe\">\n",
       "  <thead>\n",
       "    <tr style=\"text-align: right;\">\n",
       "      <th></th>\n",
       "      <th>full_name</th>\n",
       "      <th>role</th>\n",
       "      <th>presentation_id</th>\n",
       "    </tr>\n",
       "  </thead>\n",
       "  <tbody>\n",
       "    <tr>\n",
       "      <th>4</th>\n",
       "      <td>Christoph Reinhardt</td>\n",
       "      <td>presenter</td>\n",
       "      <td>40f9964b-4a75-4f75-8995-d86cb903a36b</td>\n",
       "    </tr>\n",
       "    <tr>\n",
       "      <th>5</th>\n",
       "      <td>Patrick C. Rensen</td>\n",
       "      <td>presenter</td>\n",
       "      <td>40f9964b-4a75-4f75-8995-d86cb903a36b</td>\n",
       "    </tr>\n",
       "    <tr>\n",
       "      <th>7</th>\n",
       "      <td>Christoph Reinhardt</td>\n",
       "      <td>presenter</td>\n",
       "      <td>09ca1ebc-c203-476f-b93c-51722ada74da</td>\n",
       "    </tr>\n",
       "    <tr>\n",
       "      <th>9</th>\n",
       "      <td>Wendy Garrett</td>\n",
       "      <td>presenter</td>\n",
       "      <td>43cc35bd-828c-472c-8b84-6b58576a0e95</td>\n",
       "    </tr>\n",
       "    <tr>\n",
       "      <th>11</th>\n",
       "      <td>Patrick C. Rensen</td>\n",
       "      <td>presenter</td>\n",
       "      <td>4d36916e-21d5-4fb8-bdc0-f6d13b209fe6</td>\n",
       "    </tr>\n",
       "  </tbody>\n",
       "</table>\n",
       "</div>"
      ],
      "text/plain": [
       "              full_name       role                       presentation_id\n",
       "4   Christoph Reinhardt  presenter  40f9964b-4a75-4f75-8995-d86cb903a36b\n",
       "5     Patrick C. Rensen  presenter  40f9964b-4a75-4f75-8995-d86cb903a36b\n",
       "7   Christoph Reinhardt  presenter  09ca1ebc-c203-476f-b93c-51722ada74da\n",
       "9         Wendy Garrett  presenter  43cc35bd-828c-472c-8b84-6b58576a0e95\n",
       "11    Patrick C. Rensen  presenter  4d36916e-21d5-4fb8-bdc0-f6d13b209fe6"
      ]
     },
     "execution_count": 191,
     "metadata": {},
     "output_type": "execute_result"
    }
   ],
   "source": [
    "presentationpersonsdf.head()"
   ]
  },
  {
   "cell_type": "code",
   "execution_count": 192,
   "metadata": {},
   "outputs": [
    {
     "data": {
      "text/plain": [
       "array(['presenter'], dtype=object)"
      ]
     },
     "execution_count": 192,
     "metadata": {},
     "output_type": "execute_result"
    }
   ],
   "source": [
    "presentationpersonsdf[\"role\"].unique()"
   ]
  },
  {
   "cell_type": "code",
   "execution_count": 193,
   "metadata": {},
   "outputs": [
    {
     "data": {
      "text/html": [
       "<div>\n",
       "<style scoped>\n",
       "    .dataframe tbody tr th:only-of-type {\n",
       "        vertical-align: middle;\n",
       "    }\n",
       "\n",
       "    .dataframe tbody tr th {\n",
       "        vertical-align: top;\n",
       "    }\n",
       "\n",
       "    .dataframe thead th {\n",
       "        text-align: right;\n",
       "    }\n",
       "</style>\n",
       "<table border=\"1\" class=\"dataframe\">\n",
       "  <thead>\n",
       "    <tr style=\"text-align: right;\">\n",
       "      <th></th>\n",
       "      <th>full_name</th>\n",
       "      <th>role</th>\n",
       "      <th>presentation_id</th>\n",
       "    </tr>\n",
       "  </thead>\n",
       "  <tbody>\n",
       "  </tbody>\n",
       "</table>\n",
       "</div>"
      ],
      "text/plain": [
       "Empty DataFrame\n",
       "Columns: [full_name, role, presentation_id]\n",
       "Index: []"
      ]
     },
     "execution_count": 193,
     "metadata": {},
     "output_type": "execute_result"
    }
   ],
   "source": [
    "presentationpersonsdf[pd.isnull(presentationpersonsdf[\"presentation_id\"])]"
   ]
  },
  {
   "cell_type": "code",
   "execution_count": 194,
   "metadata": {},
   "outputs": [],
   "source": [
    "presentationpersonsdf = presentationpersonsdf.merge(personsdf[[\"full_name\", \"id\"]], on=\"full_name\").rename(\n",
    "    columns={\"id\": \"person_id\"})"
   ]
  },
  {
   "cell_type": "code",
   "execution_count": 195,
   "metadata": {},
   "outputs": [],
   "source": [
    "presentationpersonsdf.drop(columns=[\"full_name\"], inplace=True)"
   ]
  },
  {
   "cell_type": "code",
   "execution_count": 196,
   "metadata": {},
   "outputs": [
    {
     "data": {
      "text/html": [
       "<div>\n",
       "<style scoped>\n",
       "    .dataframe tbody tr th:only-of-type {\n",
       "        vertical-align: middle;\n",
       "    }\n",
       "\n",
       "    .dataframe tbody tr th {\n",
       "        vertical-align: top;\n",
       "    }\n",
       "\n",
       "    .dataframe thead th {\n",
       "        text-align: right;\n",
       "    }\n",
       "</style>\n",
       "<table border=\"1\" class=\"dataframe\">\n",
       "  <thead>\n",
       "    <tr style=\"text-align: right;\">\n",
       "      <th></th>\n",
       "      <th>role</th>\n",
       "      <th>presentation_id</th>\n",
       "      <th>person_id</th>\n",
       "    </tr>\n",
       "  </thead>\n",
       "  <tbody>\n",
       "    <tr>\n",
       "      <th>0</th>\n",
       "      <td>presenter</td>\n",
       "      <td>40f9964b-4a75-4f75-8995-d86cb903a36b</td>\n",
       "      <td>f8a33d6f-9250-460a-85de-0ecc5b9ca419</td>\n",
       "    </tr>\n",
       "    <tr>\n",
       "      <th>1</th>\n",
       "      <td>presenter</td>\n",
       "      <td>09ca1ebc-c203-476f-b93c-51722ada74da</td>\n",
       "      <td>f8a33d6f-9250-460a-85de-0ecc5b9ca419</td>\n",
       "    </tr>\n",
       "    <tr>\n",
       "      <th>2</th>\n",
       "      <td>presenter</td>\n",
       "      <td>4d36916e-21d5-4fb8-bdc0-f6d13b209fe6</td>\n",
       "      <td>f8a33d6f-9250-460a-85de-0ecc5b9ca419</td>\n",
       "    </tr>\n",
       "    <tr>\n",
       "      <th>3</th>\n",
       "      <td>presenter</td>\n",
       "      <td>40f9964b-4a75-4f75-8995-d86cb903a36b</td>\n",
       "      <td>b43b35bc-5692-4fd4-9ae0-0ffbc3bb9df9</td>\n",
       "    </tr>\n",
       "    <tr>\n",
       "      <th>4</th>\n",
       "      <td>presenter</td>\n",
       "      <td>4d36916e-21d5-4fb8-bdc0-f6d13b209fe6</td>\n",
       "      <td>b43b35bc-5692-4fd4-9ae0-0ffbc3bb9df9</td>\n",
       "    </tr>\n",
       "  </tbody>\n",
       "</table>\n",
       "</div>"
      ],
      "text/plain": [
       "        role                       presentation_id  \\\n",
       "0  presenter  40f9964b-4a75-4f75-8995-d86cb903a36b   \n",
       "1  presenter  09ca1ebc-c203-476f-b93c-51722ada74da   \n",
       "2  presenter  4d36916e-21d5-4fb8-bdc0-f6d13b209fe6   \n",
       "3  presenter  40f9964b-4a75-4f75-8995-d86cb903a36b   \n",
       "4  presenter  4d36916e-21d5-4fb8-bdc0-f6d13b209fe6   \n",
       "\n",
       "                              person_id  \n",
       "0  f8a33d6f-9250-460a-85de-0ecc5b9ca419  \n",
       "1  f8a33d6f-9250-460a-85de-0ecc5b9ca419  \n",
       "2  f8a33d6f-9250-460a-85de-0ecc5b9ca419  \n",
       "3  b43b35bc-5692-4fd4-9ae0-0ffbc3bb9df9  \n",
       "4  b43b35bc-5692-4fd4-9ae0-0ffbc3bb9df9  "
      ]
     },
     "execution_count": 196,
     "metadata": {},
     "output_type": "execute_result"
    }
   ],
   "source": [
    "presentationpersonsdf.head()"
   ]
  },
  {
   "cell_type": "code",
   "execution_count": 197,
   "metadata": {},
   "outputs": [],
   "source": [
    "with jsonlines.open('../output/structured/PresentationPerson.jsonl', mode='w') as writer:\n",
    "    writer.write_all(presentationpersonsdf.T.apply(lambda x: x.dropna().to_dict()).tolist())"
   ]
  },
  {
   "cell_type": "code",
   "execution_count": 198,
   "metadata": {},
   "outputs": [],
   "source": [
    "eventdf = pd.DataFrame([{\n",
    "    \"airfinity_id\": \"AE13189\", \"city\": \"virtual\", \"country\": \"virtual\",\n",
    "    \"downloaded_at\": \"2021-06-11T15:32:08.464063\", \"end_date\": \"2021-06-02\",\n",
    "    \"id\": personsdf[\"event_id\"].unique()[0], \"name\": \"EAS Congress 2021\",\n",
    "    \"source_platform\": \"ctimeetingtech\",\n",
    "    \"source_url\": \"https://cslide.ctimeetingtech.com/eas21/attendee/confcal/session\",\n",
    "    \"start_date\": \"2020-05-30\"\n",
    "}])"
   ]
  },
  {
   "cell_type": "code",
   "execution_count": 199,
   "metadata": {},
   "outputs": [],
   "source": [
    "with jsonlines.open('../output/structured/Event.jsonl', mode='w') as writer:\n",
    "    writer.write_all(eventdf.T.apply(lambda x: x.dropna().to_dict()).tolist())"
   ]
  },
  {
   "cell_type": "code",
   "execution_count": null,
   "metadata": {},
   "outputs": [],
   "source": []
  }
 ],
 "metadata": {
  "kernelspec": {
   "display_name": "Python 3",
   "language": "python",
   "name": "python3"
  },
  "language_info": {
   "codemirror_mode": {
    "name": "ipython",
    "version": 3
   },
   "file_extension": ".py",
   "mimetype": "text/x-python",
   "name": "python",
   "nbconvert_exporter": "python",
   "pygments_lexer": "ipython3",
   "version": "3.7.6"
  }
 },
 "nbformat": 4,
 "nbformat_minor": 4
}
